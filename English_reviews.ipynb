{
  "cells": [
    {
      "cell_type": "markdown",
      "metadata": {
        "id": "hknJTfuC-rHJ"
      },
      "source": [
        "# imports and functions"
      ]
    },
    {
      "cell_type": "code",
      "execution_count": null,
      "metadata": {
        "id": "LKdQ5rW6-PU0"
      },
      "outputs": [],
      "source": [
        "import numpy as np\n",
        "import pandas as pd\n",
        "import matplotlib.pyplot as plt\n",
        "from collections import defaultdict\n",
        "\n",
        "import tensorflow\n",
        "from tensorflow.keras.models import Sequential\n",
        "from tensorflow.keras.layers import Embedding, LSTM, Dense, Dropout, Bidirectional, GRU, Conv1D, MaxPooling1D\n",
        "from tensorflow.keras.preprocessing.sequence import pad_sequences\n",
        "from tensorflow.keras.preprocessing.text import Tokenizer\n",
        "from tensorflow.keras.callbacks import EarlyStopping\n",
        "from tensorflow.keras.metrics import MeanAbsoluteError\n",
        "from tensorflow.keras.losses import MAE\n",
        "\n",
        "from sklearn.svm import SVC\n",
        "from sklearn.model_selection import train_test_split\n",
        "from sklearn.feature_extraction.text import TfidfVectorizer, CountVectorizer\n",
        "from sklearn.linear_model import LinearRegression, LogisticRegression\n",
        "from sklearn.metrics import mean_squared_error, mean_absolute_error, accuracy_score,  r2_score, f1_score, classification_report\n",
        "from sklearn.pipeline import Pipeline\n",
        "from sklearn.preprocessing import LabelEncoder\n",
        "\n",
        "import joblib"
      ]
    },
    {
      "cell_type": "code",
      "execution_count": null,
      "metadata": {
        "id": "cje_HrpiWdUS"
      },
      "outputs": [],
      "source": [
        "#tokenization with our own solution (for research topic)\n",
        "\n",
        "class SimpleTokenizer:\n",
        "    def __init__(self, num_words=None):\n",
        "        self.num_words = num_words\n",
        "        self.word_index = {}\n",
        "        self.index_word = {}\n",
        "\n",
        "    def fit_on_texts(self, texts):\n",
        "        word_counts = defaultdict(int)\n",
        "        for text in texts:\n",
        "            for word in text.split():\n",
        "                word_counts[word] += 1\n",
        "\n",
        "        sorted_words = sorted(word_counts.items(), key=lambda x: x[1], reverse=True)\n",
        "        if self.num_words:\n",
        "            sorted_words = sorted_words[:self.num_words - 1]\n",
        "\n",
        "        self.word_index = {word: i + 1 for i, (word, _) in enumerate(sorted_words)}\n",
        "        self.index_word = {i: word for word, i in self.word_index.items()}\n",
        "\n",
        "    def texts_to_sequences(self, texts):\n",
        "        sequences = []\n",
        "        for text in texts:\n",
        "            sequences.append([self.word_index.get(word, 0) for word in text.split()])\n",
        "        return sequences\n",
        "\n",
        "    def pad_sequences(self, sequences, maxlen):\n",
        "        padded_sequences = np.zeros((len(sequences), maxlen), dtype=int)\n",
        "        for i, seq in enumerate(sequences):\n",
        "            if len(seq) > maxlen:\n",
        "                padded_sequences[i, :] = seq[:maxlen]\n",
        "            else:\n",
        "                padded_sequences[i, -len(seq):] = seq\n",
        "        return padded_sequences"
      ]
    },
    {
      "cell_type": "code",
      "execution_count": null,
      "metadata": {
        "id": "ebEMTqQZ-NqI"
      },
      "outputs": [],
      "source": [
        "def show(df):\n",
        "  df['Rating'].plot(kind='hist', bins=20, title='Rating')\n",
        "  plt.gca().spines[['top', 'right',]].set_visible(False)\n",
        "  df.info()"
      ]
    },
    {
      "cell_type": "code",
      "execution_count": null,
      "metadata": {
        "id": "w02BgHuL-dtL"
      },
      "outputs": [],
      "source": [
        "def custom_accuracy(y_true, y_pred):\n",
        "    tolerance = 0.5\n",
        "    return np.mean(np.abs(y_true - y_pred) <= tolerance)"
      ]
    },
    {
      "cell_type": "code",
      "execution_count": null,
      "metadata": {
        "id": "AWrefmQo-heY"
      },
      "outputs": [],
      "source": [
        "def predict_review_rating(review_text, tok_name, model_name):\n",
        "    tokenizer = joblib.load(f'{tok_name}.pkl')\n",
        "    model = load_model(f'{model_name}.h5', custom_objects={'mse': metrics.MeanSquaredError})\n",
        "\n",
        "    review_sequence = tokenizer.texts_to_sequences([review_text])\n",
        "    review_padded = pad_sequences(review_sequence, maxlen=500)\n",
        "\n",
        "    predicted_rating = model.predict(review_padded)\n",
        "    return round(predicted_rating[0][0], 2)"
      ]
    },
    {
      "cell_type": "markdown",
      "metadata": {
        "id": "8cUsvnBP-umb"
      },
      "source": [
        "# Benchmark models"
      ]
    },
    {
      "cell_type": "code",
      "execution_count": null,
      "metadata": {
        "id": "F66ygSop-Fhz"
      },
      "outputs": [],
      "source": [
        "def run(data, tok_name = 'tokenizer', model_name = 'model', save = False):\n",
        "  simple_tokenizer = SimpleTokenizer(num_words=5000)\n",
        "  simple_tokenizer.fit_on_texts(data['Review'])\n",
        "  X = simple_tokenizer.texts_to_sequences(data['Review'])\n",
        "  X = simple_tokenizer.pad_sequences(X, maxlen=500)\n",
        "  y = data['Rating'].values\n",
        "\n",
        "  # tokenizer = Tokenizer(num_words=5000)\n",
        "  # tokenizer.fit_on_texts(data['Review'])\n",
        "  # X = tokenizer.texts_to_sequences(data['Review'])\n",
        "  # X = pad_sequences(X, maxlen=500)\n",
        "  # y = data['Rating'].values\n",
        "\n",
        "  X_train, X_test, y_train, y_test = train_test_split(X, y, test_size=0.2, random_state=42)\n",
        "\n",
        "  model = Sequential()\n",
        "  model.add(Embedding(input_dim=5000, output_dim=128, input_length=500))\n",
        "  model.add(LSTM(64, dropout=0.2, recurrent_dropout=0.2))\n",
        "  model.add(Dense(1, activation='linear'))\n",
        "\n",
        "  model.compile(optimizer='adam', loss='mse', metrics=['accuracy','mae'])\n",
        "  history = model.fit(X_train, y_train, epochs=3, batch_size=64, validation_split=0.1)\n",
        "\n",
        "  y_pred = model.predict(X_test).flatten()\n",
        "\n",
        "  y_test_classes = np.digitize(y_test, bins = [0.5, 1.5, 2.5, 3.5, 4.5]) - 1\n",
        "  y_pred_classes = np.digitize(y_pred, bins = [0.5, 1.5, 2.5, 3.5, 4.5]) - 1\n",
        "\n",
        "  f1 = f1_score(y_test_classes, y_pred_classes, average='weighted')\n",
        "  mae = mean_absolute_error(y_test, y_pred)\n",
        "\n",
        "  loss, accuracy, mae_evaluate = model.evaluate(X_test, y_test)\n",
        "  acc = custom_accuracy(y_test, y_pred)\n",
        "  print('1 - benchmark')\n",
        "  print(f'MAE on Test Set: {mae}')\n",
        "  print(f'MAE_ev on Test Set: {mae_evaluate}')\n",
        "  print(f'Accuracy on Test Set: {accuracy}')\n",
        "  print(f'F1 Score on Test Set: {f1:.2f}')\n",
        "  print(f'Custom Accuracy (within tolerance): {acc * 100:.2f}%')\n",
        "\n",
        "  if save:\n",
        "    joblib.dump(simple_tokenizer, f'{tok_name}.pkl')\n",
        "    model.save(f'{model_name}.h5')"
      ]
    },
    {
      "cell_type": "code",
      "execution_count": null,
      "metadata": {
        "id": "rPWSH92_-IkG"
      },
      "outputs": [],
      "source": [
        "def run2(data, tok_name='tokenizer', model_name='model', save=False):\n",
        "    simple_tokenizer = SimpleTokenizer(num_words=5000)\n",
        "    simple_tokenizer.fit_on_texts(data['Review'])\n",
        "    X = simple_tokenizer.texts_to_sequences(data['Review'])\n",
        "    X = simple_tokenizer.pad_sequences(X, maxlen=500)\n",
        "    y = data['Rating'].values\n",
        "\n",
        "\n",
        "    # tokenizer = Tokenizer(num_words=5000, oov_token=\"<OOV>\")\n",
        "    # tokenizer.fit_on_texts(data['Review'])\n",
        "    # X = tokenizer.texts_to_sequences(data['Review'])\n",
        "    # X = pad_sequences(X, maxlen=500)\n",
        "    # y = data['Rating'].values\n",
        "\n",
        "    X_train, X_test, y_train, y_test = train_test_split(X, y, test_size=0.2, random_state=42)\n",
        "\n",
        "    model = Sequential([\n",
        "        Embedding(input_dim=5000, output_dim=128, input_length=500),\n",
        "        LSTM(64, dropout=0.2),\n",
        "        Dense(32, activation='relu'),\n",
        "        Dense(1, activation='relu')\n",
        "    ])\n",
        "    model.compile(optimizer='adam', loss='mae', metrics=['accuracy','mae'])\n",
        "\n",
        "    early_stop = EarlyStopping(monitor='val_loss', patience=3, restore_best_weights=True)\n",
        "    history = model.fit(\n",
        "        X_train, y_train,\n",
        "        epochs=20, batch_size=64,\n",
        "        validation_split=0.1,\n",
        "        callbacks=[early_stop]\n",
        "    )\n",
        "\n",
        "    y_pred = model.predict(X_test).flatten()\n",
        "\n",
        "    y_test_classes = np.digitize(y_test, bins = [0.5, 1.5, 2.5, 3.5, 4.5]) - 1\n",
        "    y_pred_classes = np.digitize(y_pred, bins = [0.5, 1.5, 2.5, 3.5, 4.5]) - 1\n",
        "\n",
        "    f1 = f1_score(y_test_classes, y_pred_classes, average='weighted')\n",
        "    mae = mean_absolute_error(y_test, y_pred)\n",
        "\n",
        "    loss, accuracy, mae_evaluate = model.evaluate(X_test, y_test)\n",
        "    acc = custom_accuracy(y_test, y_pred)\n",
        "    print('2 - benchmark')\n",
        "    print(f'MAE on Test Set: {mae}')\n",
        "    print(f'MAE_ev on Test Set: {mae_evaluate}')\n",
        "    print(f'Accuracy on Test Set: {accuracy}')\n",
        "    print(f'F1 Score on Test Set: {f1:.2f}')\n",
        "    print(f'Custom Accuracy (within tolerance): {acc * 100:.2f}%')\n",
        "\n",
        "    if save:\n",
        "      joblib.dump(simple_tokenizer, f'{tok_name}.pkl')\n",
        "      model.save(f'{model_name}.h5')\n",
        "\n",
        "    return model, history\n"
      ]
    },
    {
      "cell_type": "markdown",
      "metadata": {
        "id": "MO4_-T0jaPTM"
      },
      "source": [
        "#Benchmark models with integer outputs"
      ]
    },
    {
      "cell_type": "code",
      "execution_count": null,
      "metadata": {
        "id": "zthFYH6BDKVM"
      },
      "outputs": [],
      "source": [
        "def run_int(data, tok_name='tokenizer', model_name='model', save=False):\n",
        "    simple_tokenizer = SimpleTokenizer(num_words=5000)\n",
        "    simple_tokenizer.fit_on_texts(data['Review'])\n",
        "    X = simple_tokenizer.texts_to_sequences(data['Review'])\n",
        "    X = simple_tokenizer.pad_sequences(X, maxlen=500)\n",
        "    y = data['Rating'].values - 1\n",
        "\n",
        "    # tokenizer = Tokenizer(num_words=5000)\n",
        "    # tokenizer.fit_on_texts(data['Review'])\n",
        "    # X = tokenizer.texts_to_sequences(data['Review'])\n",
        "    # X = pad_sequences(X, maxlen=500)\n",
        "    # y = data['Rating'].values - 1  # Convert 1-10 ratings to 0-9\n",
        "\n",
        "    X_train, X_test, y_train, y_test = train_test_split(X, y, test_size=0.2, random_state=42)\n",
        "\n",
        "    model = Sequential()\n",
        "    model.add(Embedding(input_dim=5000, output_dim=128, input_length=500))\n",
        "    model.add(LSTM(64, dropout=0.2, recurrent_dropout=0.2))\n",
        "    model.add(Dense(5, activation='softmax'))\n",
        "\n",
        "    model.compile(optimizer='adam', loss='sparse_categorical_crossentropy', metrics=['accuracy'])\n",
        "\n",
        "    history = model.fit(X_train, y_train, epochs=3, batch_size=64, validation_split=0.1)\n",
        "\n",
        "    y_pred_classes = np.argmax(model.predict(X_test), axis=1)\n",
        "\n",
        "    f1 = f1_score(y_test, y_pred_classes, average='weighted')\n",
        "    accuracy = accuracy_score(y_test, y_pred_classes)\n",
        "    print('1 na int')\n",
        "    print(f'F1 Score on Test Set: {f1:.2f}')\n",
        "    print(f'Accuracy on Test Set: {accuracy:.2f}')\n",
        "\n",
        "    if save:\n",
        "        joblib.dump(simple_tokenizer, f'{tok_name}.pkl')\n",
        "        model.save(f'{model_name}.h5')\n"
      ]
    },
    {
      "cell_type": "code",
      "execution_count": null,
      "metadata": {
        "id": "gwrSzuIzFfXc"
      },
      "outputs": [],
      "source": [
        "def run2_int(data, tok_name='tokenizer', model_name='model', save=False):\n",
        "    simple_tokenizer = SimpleTokenizer(num_words=5000)\n",
        "    simple_tokenizer.fit_on_texts(data['Review'])\n",
        "    X = simple_tokenizer.texts_to_sequences(data['Review'])\n",
        "    X = simple_tokenizer.pad_sequences(X, maxlen=500)\n",
        "    y = data['Rating'].values - 1\n",
        "\n",
        "    # tokenizer = Tokenizer(num_words=5000, oov_token=\"<OOV>\")\n",
        "    # tokenizer.fit_on_texts(data['Review'])\n",
        "    # X = tokenizer.texts_to_sequences(data['Review'])\n",
        "    # X = pad_sequences(X, maxlen=500)\n",
        "    # y = data['Rating'].values - 1\n",
        "\n",
        "    X_train, X_test, y_train, y_test = train_test_split(X, y, test_size=0.2, random_state=42)\n",
        "\n",
        "    model = Sequential([\n",
        "        Embedding(input_dim=5000, output_dim=128, input_length=500),\n",
        "        LSTM(64, dropout=0.2),\n",
        "        Dense(32, activation='relu'),\n",
        "        Dense(5, activation='softmax')\n",
        "    ])\n",
        "\n",
        "    model.compile(optimizer='adam', loss='sparse_categorical_crossentropy', metrics=['accuracy'])\n",
        "\n",
        "    early_stop = EarlyStopping(monitor='val_loss', patience=3, restore_best_weights=True)\n",
        "    history = model.fit(\n",
        "        X_train, y_train,\n",
        "        epochs=20, batch_size=64,\n",
        "        validation_split=0.1,\n",
        "        callbacks=[early_stop]\n",
        "    )\n",
        "\n",
        "    y_pred_probs = model.predict(X_test)\n",
        "    y_pred_classes = np.argmax(y_pred_probs, axis=1)\n",
        "\n",
        "    accuracy = accuracy_score(y_test, y_pred_classes)\n",
        "    f1 = f1_score(y_test, y_pred_classes, average='weighted')\n",
        "    print('2 na int')\n",
        "    print(f'Accuracy on Test Set: {accuracy}')\n",
        "    print(f'F1 Score on Test Set: {f1:.2f}')\n",
        "\n",
        "    if save:\n",
        "        joblib.dump(simple_tokenizer, f'{tok_name}.pkl')\n",
        "        model.save(f'{model_name}.h5')\n",
        "\n",
        "    return model, history\n"
      ]
    },
    {
      "cell_type": "code",
      "execution_count": null,
      "metadata": {
        "id": "p288JXk4Ls4z"
      },
      "outputs": [],
      "source": [
        "def run2_bi(data, tok_name='tokenizer', model_name='model', save=False):\n",
        "    simple_tokenizer = SimpleTokenizer(num_words=5000)\n",
        "    simple_tokenizer.fit_on_texts(data['Review'])\n",
        "    X = simple_tokenizer.texts_to_sequences(data['Review'])\n",
        "    X = simple_tokenizer.pad_sequences(X, maxlen=500)\n",
        "    y = data['Rating'].values - 1\n",
        "\n",
        "\n",
        "    # tokenizer = Tokenizer(num_words=10000, oov_token=\"<OOV>\")\n",
        "    # tokenizer.fit_on_texts(data['Review'])\n",
        "    # X = tokenizer.texts_to_sequences(data['Review'])\n",
        "    # X = pad_sequences(X, maxlen=500)\n",
        "    # y = data['Rating'].values - 1\n",
        "\n",
        "    X_train, X_test, y_train, y_test = train_test_split(X, y, test_size=0.2, random_state=42)\n",
        "\n",
        "    model = Sequential([\n",
        "      Embedding(input_dim=10000, output_dim=128, input_length=500),\n",
        "      Bidirectional(LSTM(128, dropout=0.2, return_sequences=True)),\n",
        "      LSTM(64, dropout=0.2),\n",
        "      Dense(64, activation='relu'),\n",
        "      Dense(5, activation='softmax')\n",
        "    ])\n",
        "\n",
        "    model.compile(optimizer='adam', loss='sparse_categorical_crossentropy', metrics=['accuracy'])\n",
        "\n",
        "    early_stop = EarlyStopping(monitor='val_loss', patience=3, restore_best_weights=True)\n",
        "    history = model.fit(\n",
        "        X_train, y_train,\n",
        "        epochs=20, batch_size=64,\n",
        "        validation_split=0.1,\n",
        "        callbacks=[early_stop]\n",
        "    )\n",
        "\n",
        "    y_pred_probs = model.predict(X_test)\n",
        "    y_pred_classes = np.argmax(y_pred_probs, axis=1)\n",
        "\n",
        "    accuracy = accuracy_score(y_test, y_pred_classes)\n",
        "    f1 = f1_score(y_test, y_pred_classes, average='weighted')\n",
        "    print('Bi')\n",
        "    print(f'Accuracy on Test Set: {accuracy}')\n",
        "    print(f'F1 Score on Test Set: {f1:.2f}')\n",
        "\n",
        "    if save:\n",
        "        joblib.dump(simple_tokenizer, f'{tok_name}.pkl')\n",
        "        model.save(f'{model_name}.h5')\n",
        "\n",
        "    return model, history\n"
      ]
    },
    {
      "cell_type": "markdown",
      "metadata": {
        "id": "Mic4dOKjaL5T"
      },
      "source": [
        "# GRU"
      ]
    },
    {
      "cell_type": "code",
      "execution_count": null,
      "metadata": {
        "id": "HmA3-tCIadWo"
      },
      "outputs": [],
      "source": [
        "def run2_gru(data, tok_name='tokenizer', model_name='model', save=False):\n",
        "    simple_tokenizer = SimpleTokenizer(num_words=5000)\n",
        "    simple_tokenizer.fit_on_texts(data['Review'])\n",
        "    X = simple_tokenizer.texts_to_sequences(data['Review'])\n",
        "    X = simple_tokenizer.pad_sequences(X, maxlen=500)\n",
        "    y = data['Rating'].values - 1\n",
        "\n",
        "\n",
        "    # tokenizer = Tokenizer(num_words=5000, oov_token=\"<OOV>\")\n",
        "    # tokenizer.fit_on_texts(data['Review'])\n",
        "    # X = tokenizer.texts_to_sequences(data['Review'])\n",
        "    # X = pad_sequences(X, maxlen=500)\n",
        "    # y = data['Rating'].values - 1\n",
        "\n",
        "    X_train, X_test, y_train, y_test = train_test_split(X, y, test_size=0.2, random_state=42)\n",
        "\n",
        "    model = Sequential([\n",
        "        Embedding(input_dim=5000, output_dim=128, input_length=500),\n",
        "        GRU(128, dropout=0.2),\n",
        "        Dense(32, activation='relu'),\n",
        "        Dense(5, activation='softmax')\n",
        "    ])\n",
        "\n",
        "    model.compile(optimizer='adam', loss='sparse_categorical_crossentropy', metrics=['accuracy'])\n",
        "\n",
        "    early_stop = EarlyStopping(monitor='val_loss', patience=3, restore_best_weights=True)\n",
        "\n",
        "    history = model.fit(\n",
        "        X_train, y_train,\n",
        "        epochs=20, batch_size=64,\n",
        "        validation_split=0.1,\n",
        "        callbacks=[early_stop]\n",
        "    )\n",
        "\n",
        "    y_pred_probs = model.predict(X_test)\n",
        "    y_pred_classes = np.argmax(y_pred_probs, axis=1)\n",
        "\n",
        "    accuracy = accuracy_score(y_test, y_pred_classes)\n",
        "    f1 = f1_score(y_test, y_pred_classes, average='weighted')\n",
        "    print('GRU')\n",
        "    print(f'Accuracy on Test Set: {accuracy}')\n",
        "    print(f'F1 Score on Test Set: {f1:.2f}')\n",
        "\n",
        "    if save:\n",
        "        joblib.dump(simple_tokenizer, f'{tok_name}.pkl')\n",
        "        model.save(f'{model_name}.h5')\n",
        "\n",
        "    return model, history\n"
      ]
    },
    {
      "cell_type": "markdown",
      "metadata": {
        "id": "rMOyMIqKXm8E"
      },
      "source": [
        "# CNN + RNN hybrid"
      ]
    },
    {
      "cell_type": "code",
      "execution_count": null,
      "metadata": {
        "id": "lUy95bNOXqjY"
      },
      "outputs": [],
      "source": [
        "def run2_cnn_rnn(data, tok_name='tokenizer', model_name='model', save=False):\n",
        "    simple_tokenizer = SimpleTokenizer(num_words=5000)\n",
        "    simple_tokenizer.fit_on_texts(data['Review'])\n",
        "    X = simple_tokenizer.texts_to_sequences(data['Review'])\n",
        "    X = simple_tokenizer.pad_sequences(X, maxlen=500)\n",
        "    y = data['Rating'].values - 1\n",
        "\n",
        "\n",
        "    # Tokenizer setup\n",
        "    # tokenizer = Tokenizer(num_words=5000, oov_token=\"<OOV>\")\n",
        "    # tokenizer.fit_on_texts(data['Review'])\n",
        "    # X = tokenizer.texts_to_sequences(data['Review'])\n",
        "    # X = pad_sequences(X, maxlen=500)\n",
        "    # y = data['Rating'].values - 1\n",
        "\n",
        "    # Split into train and test sets\n",
        "    X_train, X_test, y_train, y_test = train_test_split(X, y, test_size=0.2, random_state=42)\n",
        "\n",
        "    # CNN + RNN Hybrid Model Architecture\n",
        "    model = Sequential([\n",
        "        Embedding(input_dim=5000, output_dim=128, input_length=500),\n",
        "        Conv1D(128, kernel_size=5, activation='relu'),\n",
        "        MaxPooling1D(pool_size=4),\n",
        "        LSTM(64, dropout=0.2, return_sequences=False),\n",
        "        Dense(64, activation='relu'),\n",
        "        Dropout(0.3),\n",
        "        Dense(5, activation='softmax')\n",
        "    ])\n",
        "\n",
        "    model.compile(optimizer='adam', loss='sparse_categorical_crossentropy', metrics=['accuracy'])\n",
        "\n",
        "    early_stop = EarlyStopping(monitor='val_loss', patience=3, restore_best_weights=True)\n",
        "\n",
        "    history = model.fit(\n",
        "        X_train, y_train,\n",
        "        epochs=20, batch_size=64,\n",
        "        validation_split=0.1,\n",
        "        callbacks=[early_stop]\n",
        "    )\n",
        "\n",
        "    y_pred_probs = model.predict(X_test)\n",
        "    y_pred_classes = np.argmax(y_pred_probs, axis=1)\n",
        "\n",
        "    accuracy = accuracy_score(y_test, y_pred_classes)\n",
        "    f1 = f1_score(y_test, y_pred_classes, average='weighted')\n",
        "    print('cnn+rnn')\n",
        "    print(f'Accuracy on Test Set: {accuracy}')\n",
        "    print(f'F1 Score on Test Set: {f1:.2f}')\n",
        "\n",
        "    if save:\n",
        "        joblib.dump(simple_tokenizer, f'{tok_name}.pkl')\n",
        "        model.save(f'{model_name}.h5')\n",
        "\n",
        "    return model, history\n"
      ]
    },
    {
      "cell_type": "markdown",
      "metadata": {
        "id": "NZo1Rc4dXeL4"
      },
      "source": [
        "#SVC"
      ]
    },
    {
      "cell_type": "code",
      "execution_count": null,
      "metadata": {
        "id": "RuCNsJVtXfxU"
      },
      "outputs": [],
      "source": [
        "def run2_svm(data, vectorizer_name='tfidf_vectorizer', model_name='svm_model', save=False):\n",
        "\n",
        "    reviews = data['Review'].tolist()\n",
        "    ratings = data['Rating'].values - 1\n",
        "\n",
        "    vectorizer = TfidfVectorizer(max_features=5000, stop_words='english')\n",
        "    X = vectorizer.fit_transform(reviews).toarray()\n",
        "\n",
        "    X_train, X_test, y_train, y_test = train_test_split(X, ratings, test_size=0.2, random_state=42)\n",
        "\n",
        "    model = SVC(kernel='linear', C=1, probability=True)\n",
        "    model.fit(X_train, y_train)\n",
        "\n",
        "    y_pred = model.predict(X_test)\n",
        "\n",
        "    accuracy = accuracy_score(y_test, y_pred)\n",
        "    f1 = f1_score(y_test, y_pred, average='weighted')\n",
        "    print('SVC')\n",
        "    print(f'Accuracy on Test Set: {accuracy}')\n",
        "    print(f'F1 Score on Test Set: {f1:.2f}')\n",
        "\n",
        "    if save:\n",
        "        joblib.dump(vectorizer, f'{vectorizer_name}.pkl')\n",
        "        joblib.dump(model, f'{model_name}.pkl')\n",
        "\n",
        "    return model, vectorizer\n"
      ]
    },
    {
      "cell_type": "markdown",
      "metadata": {
        "id": "Y1fwYP830TWA"
      },
      "source": [
        "# LogisticRegression"
      ]
    },
    {
      "cell_type": "code",
      "execution_count": null,
      "metadata": {
        "id": "JfE1AuI40WdD"
      },
      "outputs": [],
      "source": [
        "def run_logistic_regression(data, target_col='Rating', text_col='Review', save=False, model_name='logistic_model'):\n",
        "\n",
        "    label_encoder = LabelEncoder()\n",
        "    y = label_encoder.fit_transform(data[target_col])\n",
        "\n",
        "    X_train, X_test, y_train, y_test = train_test_split(\n",
        "        data[text_col], y, test_size=0.2, random_state=42\n",
        "    )\n",
        "\n",
        "    pipeline = Pipeline([\n",
        "        ('vectorizer', CountVectorizer(max_features=5000)),\n",
        "        ('classifier', LogisticRegression(max_iter=1000, solver='lbfgs', random_state=42))\n",
        "    ])\n",
        "\n",
        "    pipeline.fit(X_train, y_train)\n",
        "\n",
        "    y_pred = pipeline.predict(X_test)\n",
        "\n",
        "    acc = accuracy_score(y_test, y_pred)\n",
        "    f1 = f1_score(y_test, y_pred, average='weighted')\n",
        "    print(\"run_logistic_regression\")\n",
        "    print(f'Accuracy: {acc}')\n",
        "    print(f'F1 Score: {f1:.2f}')\n",
        "    print(\"\\nClassification Report:\\n\", classification_report(y_test, y_pred))\n",
        "\n",
        "    if save:\n",
        "        joblib.dump(pipeline, f'{model_name}.pkl')\n",
        "        joblib.dump(label_encoder, f'{model_name}_label_encoder.pkl')\n",
        "\n",
        "    return pipeline, label_encoder\n"
      ]
    },
    {
      "cell_type": "markdown",
      "metadata": {
        "id": "lUA88mEG2jlX"
      },
      "source": [
        "# run all"
      ]
    },
    {
      "cell_type": "code",
      "execution_count": null,
      "metadata": {
        "id": "xmFFsQ5Z3wHt"
      },
      "outputs": [],
      "source": [
        "df = pd.read_csv('/content/ang_full.csv')"
      ]
    },
    {
      "cell_type": "code",
      "execution_count": null,
      "metadata": {
        "colab": {
          "base_uri": "https://localhost:8080/"
        },
        "id": "qfplU73I32hN",
        "outputId": "f90e1ec4-249e-4497-9700-c155634da4b8"
      },
      "outputs": [
        {
          "name": "stderr",
          "output_type": "stream",
          "text": [
            "<ipython-input-44-9a4fffe4ca1c>:3: DeprecationWarning: DataFrameGroupBy.apply operated on the grouping columns. This behavior is deprecated, and in a future version of pandas the grouping columns will be excluded from the operation. Either pass `include_groups=False` to exclude the groupings or explicitly select the grouping columns after groupby to silence this warning.\n",
            "  .apply(lambda x: x.sample(n=3000, random_state=42) if len(x) >= 3000 else x)\n"
          ]
        }
      ],
      "source": [
        "sampled_data = (\n",
        "    df.groupby('Rating', group_keys=False)\n",
        "    .apply(lambda x: x.sample(n=3000, random_state=42) if len(x) >= 3000 else x)\n",
        ")"
      ]
    },
    {
      "cell_type": "code",
      "execution_count": null,
      "metadata": {
        "colab": {
          "base_uri": "https://localhost:8080/",
          "height": 643
        },
        "id": "d1roz5lIAAII",
        "outputId": "f22979cd-6b2a-4e7a-b085-37f7c3cc740c"
      },
      "outputs": [
        {
          "output_type": "stream",
          "name": "stdout",
          "text": [
            "<class 'pandas.core.frame.DataFrame'>\n",
            "RangeIndex: 27966 entries, 0 to 27965\n",
            "Data columns (total 4 columns):\n",
            " #   Column      Non-Null Count  Dtype  \n",
            "---  ------      --------------  -----  \n",
            " 0   Unnamed: 0  27966 non-null  int64  \n",
            " 1   Book Title  27966 non-null  object \n",
            " 2   Review      27966 non-null  object \n",
            " 3   Rating      27966 non-null  float64\n",
            "dtypes: float64(1), int64(1), object(2)\n",
            "memory usage: 874.1+ KB\n"
          ]
        },
        {
          "output_type": "display_data",
          "data": {
            "text/plain": [
              "<Figure size 640x480 with 1 Axes>"
            ],
            "image/png": "[encoded data removed]"
          },
          "metadata": {}
        }
      ],
      "source": [
        "show(df)"
      ]
    },
    {
      "cell_type": "code",
      "execution_count": null,
      "metadata": {
        "colab": {
          "base_uri": "https://localhost:8080/"
        },
        "id": "xWObG-JJ-owv",
        "outputId": "aeb9a20b-4c4d-4ffc-cb8f-79413a5d8ff9"
      },
      "outputs": [
        {
          "name": "stdout",
          "output_type": "stream",
          "text": [
            "Epoch 1/3\n"
          ]
        },
        {
          "name": "stderr",
          "output_type": "stream",
          "text": [
            "/usr/local/lib/python3.10/dist-packages/keras/src/layers/core/embedding.py:90: UserWarning: Argument `input_length` is deprecated. Just remove it.\n",
            "  warnings.warn(\n"
          ]
        },
        {
          "name": "stdout",
          "output_type": "stream",
          "text": [
            "\u001b[1m169/169\u001b[0m \u001b[32m━━━━━━━━━━━━━━━━━━━━\u001b[0m\u001b[37m\u001b[0m \u001b[1m120s\u001b[0m 688ms/step - accuracy: 0.1660 - loss: 3.8148 - mae: 1.5893 - val_accuracy: 0.1850 - val_loss: 1.8466 - val_mae: 1.1564\n",
            "Epoch 2/3\n",
            "\u001b[1m169/169\u001b[0m \u001b[32m━━━━━━━━━━━━━━━━━━━━\u001b[0m\u001b[37m\u001b[0m \u001b[1m145s\u001b[0m 704ms/step - accuracy: 0.2022 - loss: 1.8580 - mae: 1.1693 - val_accuracy: 0.1842 - val_loss: 1.6971 - val_mae: 1.0796\n",
            "Epoch 3/3\n",
            "\u001b[1m169/169\u001b[0m \u001b[32m━━━━━━━━━━━━━━━━━━━━\u001b[0m\u001b[37m\u001b[0m \u001b[1m139s\u001b[0m 687ms/step - accuracy: 0.1972 - loss: 1.4313 - mae: 0.9862 - val_accuracy: 0.1850 - val_loss: 1.4453 - val_mae: 0.9739\n",
            "\u001b[1m94/94\u001b[0m \u001b[32m━━━━━━━━━━━━━━━━━━━━\u001b[0m\u001b[37m\u001b[0m \u001b[1m9s\u001b[0m 98ms/step\n",
            "\u001b[1m94/94\u001b[0m \u001b[32m━━━━━━━━━━━━━━━━━━━━\u001b[0m\u001b[37m\u001b[0m \u001b[1m7s\u001b[0m 74ms/step - accuracy: 0.2083 - loss: 1.5907 - mae: 1.0338\n",
            "1 - benchmark\n",
            "MAE on Test Set: 1.026981767853101\n",
            "MAE_ev on Test Set: 1.0269818305969238\n",
            "Accuracy on Test Set: 0.19966666400432587\n",
            "F1 Score on Test Set: 0.24\n",
            "Custom Accuracy (within tolerance): 28.77%\n"
          ]
        }
      ],
      "source": [
        "run(sampled_data, \"tokenizer_clean\", \"model_clean\", False)"
      ]
    },
    {
      "cell_type": "code",
      "execution_count": null,
      "metadata": {
        "colab": {
          "base_uri": "https://localhost:8080/"
        },
        "id": "CISdR-GJr5Q9",
        "outputId": "d71236f7-05f4-458a-f828-cbbfc81e7345"
      },
      "outputs": [
        {
          "name": "stdout",
          "output_type": "stream",
          "text": [
            "Epoch 1/20\n"
          ]
        },
        {
          "name": "stderr",
          "output_type": "stream",
          "text": [
            "/usr/local/lib/python3.10/dist-packages/keras/src/layers/core/embedding.py:90: UserWarning: Argument `input_length` is deprecated. Just remove it.\n",
            "  warnings.warn(\n"
          ]
        },
        {
          "name": "stdout",
          "output_type": "stream",
          "text": [
            "\u001b[1m169/169\u001b[0m \u001b[32m━━━━━━━━━━━━━━━━━━━━\u001b[0m\u001b[37m\u001b[0m \u001b[1m116s\u001b[0m 671ms/step - accuracy: 0.1637 - loss: 1.5911 - mae: 1.5911 - val_accuracy: 0.1850 - val_loss: 1.1570 - val_mae: 1.1570\n",
            "Epoch 2/20\n",
            "\u001b[1m169/169\u001b[0m \u001b[32m━━━━━━━━━━━━━━━━━━━━\u001b[0m\u001b[37m\u001b[0m \u001b[1m144s\u001b[0m 682ms/step - accuracy: 0.1998 - loss: 1.1670 - mae: 1.1670 - val_accuracy: 0.1850 - val_loss: 1.0465 - val_mae: 1.0465\n",
            "Epoch 3/20\n",
            "\u001b[1m169/169\u001b[0m \u001b[32m━━━━━━━━━━━━━━━━━━━━\u001b[0m\u001b[37m\u001b[0m \u001b[1m138s\u001b[0m 654ms/step - accuracy: 0.1985 - loss: 0.9573 - mae: 0.9573 - val_accuracy: 0.1858 - val_loss: 0.9553 - val_mae: 0.9553\n",
            "Epoch 4/20\n",
            "\u001b[1m169/169\u001b[0m \u001b[32m━━━━━━━━━━━━━━━━━━━━\u001b[0m\u001b[37m\u001b[0m \u001b[1m117s\u001b[0m 692ms/step - accuracy: 0.2022 - loss: 0.8505 - mae: 0.8505 - val_accuracy: 0.1858 - val_loss: 0.9306 - val_mae: 0.9306\n",
            "Epoch 5/20\n",
            "\u001b[1m169/169\u001b[0m \u001b[32m━━━━━━━━━━━━━━━━━━━━\u001b[0m\u001b[37m\u001b[0m \u001b[1m114s\u001b[0m 673ms/step - accuracy: 0.2025 - loss: 0.7449 - mae: 0.7449 - val_accuracy: 0.1858 - val_loss: 0.9417 - val_mae: 0.9417\n",
            "Epoch 6/20\n",
            "\u001b[1m169/169\u001b[0m \u001b[32m━━━━━━━━━━━━━━━━━━━━\u001b[0m\u001b[37m\u001b[0m \u001b[1m142s\u001b[0m 678ms/step - accuracy: 0.2019 - loss: 0.6867 - mae: 0.6867 - val_accuracy: 0.1858 - val_loss: 0.9131 - val_mae: 0.9131\n",
            "Epoch 7/20\n",
            "\u001b[1m169/169\u001b[0m \u001b[32m━━━━━━━━━━━━━━━━━━━━\u001b[0m\u001b[37m\u001b[0m \u001b[1m138s\u001b[0m 657ms/step - accuracy: 0.2066 - loss: 0.6325 - mae: 0.6325 - val_accuracy: 0.1858 - val_loss: 0.9664 - val_mae: 0.9664\n",
            "Epoch 8/20\n",
            "\u001b[1m169/169\u001b[0m \u001b[32m━━━━━━━━━━━━━━━━━━━━\u001b[0m\u001b[37m\u001b[0m \u001b[1m145s\u001b[0m 672ms/step - accuracy: 0.1994 - loss: 0.5634 - mae: 0.5634 - val_accuracy: 0.1858 - val_loss: 0.9183 - val_mae: 0.9183\n",
            "Epoch 9/20\n",
            "\u001b[1m169/169\u001b[0m \u001b[32m━━━━━━━━━━━━━━━━━━━━\u001b[0m\u001b[37m\u001b[0m \u001b[1m144s\u001b[0m 687ms/step - accuracy: 0.2036 - loss: 0.5200 - mae: 0.5200 - val_accuracy: 0.1858 - val_loss: 0.8881 - val_mae: 0.8881\n",
            "Epoch 10/20\n",
            "\u001b[1m169/169\u001b[0m \u001b[32m━━━━━━━━━━━━━━━━━━━━\u001b[0m\u001b[37m\u001b[0m \u001b[1m113s\u001b[0m 672ms/step - accuracy: 0.1967 - loss: 0.4838 - mae: 0.4838 - val_accuracy: 0.1858 - val_loss: 0.9360 - val_mae: 0.9360\n",
            "Epoch 11/20\n",
            "\u001b[1m169/169\u001b[0m \u001b[32m━━━━━━━━━━━━━━━━━━━━\u001b[0m\u001b[37m\u001b[0m \u001b[1m143s\u001b[0m 677ms/step - accuracy: 0.2063 - loss: 0.4475 - mae: 0.4475 - val_accuracy: 0.1858 - val_loss: 0.9411 - val_mae: 0.9411\n",
            "Epoch 12/20\n",
            "\u001b[1m169/169\u001b[0m \u001b[32m━━━━━━━━━━━━━━━━━━━━\u001b[0m\u001b[37m\u001b[0m \u001b[1m146s\u001b[0m 700ms/step - accuracy: 0.1977 - loss: 0.4127 - mae: 0.4127 - val_accuracy: 0.1858 - val_loss: 0.9252 - val_mae: 0.9252\n",
            "\u001b[1m94/94\u001b[0m \u001b[32m━━━━━━━━━━━━━━━━━━━━\u001b[0m\u001b[37m\u001b[0m \u001b[1m8s\u001b[0m 79ms/step\n",
            "\u001b[1m94/94\u001b[0m \u001b[32m━━━━━━━━━━━━━━━━━━━━\u001b[0m\u001b[37m\u001b[0m \u001b[1m8s\u001b[0m 88ms/step - accuracy: 0.2083 - loss: 0.9634 - mae: 0.9634\n",
            "2 - benchmark\n",
            "MAE on Test Set: 0.9387723729809125\n",
            "MAE_ev on Test Set: 0.9387719035148621\n",
            "Accuracy on Test Set: 0.19966666400432587\n",
            "F1 Score on Test Set: 0.35\n",
            "Custom Accuracy (within tolerance): 35.20%\n"
          ]
        },
        {
          "data": {
            "text/plain": [
              "(<Sequential name=sequential_22, built=True>,\n",
              " <keras.src.callbacks.history.History at 0x78adbae5f1c0>)"
            ]
          },
          "execution_count": 63,
          "metadata": {},
          "output_type": "execute_result"
        }
      ],
      "source": [
        "run2(sampled_data, \"tokenizer_clean\", \"model_clean\", False)"
      ]
    },
    {
      "cell_type": "code",
      "execution_count": null,
      "metadata": {
        "colab": {
          "base_uri": "https://localhost:8080/"
        },
        "id": "OaGaXk0ZDN-Z",
        "outputId": "0c868168-4807-4a8a-c515-de7ec5a16d21"
      },
      "outputs": [
        {
          "name": "stderr",
          "output_type": "stream",
          "text": [
            "/usr/local/lib/python3.10/dist-packages/keras/src/layers/core/embedding.py:90: UserWarning: Argument `input_length` is deprecated. Just remove it.\n",
            "  warnings.warn(\n"
          ]
        },
        {
          "name": "stdout",
          "output_type": "stream",
          "text": [
            "Epoch 1/3\n",
            "\u001b[1m169/169\u001b[0m \u001b[32m━━━━━━━━━━━━━━━━━━━━\u001b[0m\u001b[37m\u001b[0m \u001b[1m117s\u001b[0m 674ms/step - accuracy: 0.2282 - loss: 1.5952 - val_accuracy: 0.2167 - val_loss: 1.6405\n",
            "Epoch 2/3\n",
            "\u001b[1m169/169\u001b[0m \u001b[32m━━━━━━━━━━━━━━━━━━━━\u001b[0m\u001b[37m\u001b[0m \u001b[1m141s\u001b[0m 669ms/step - accuracy: 0.3305 - loss: 1.5317 - val_accuracy: 0.3625 - val_loss: 1.4177\n",
            "Epoch 3/3\n",
            "\u001b[1m169/169\u001b[0m \u001b[32m━━━━━━━━━━━━━━━━━━━━\u001b[0m\u001b[37m\u001b[0m \u001b[1m144s\u001b[0m 682ms/step - accuracy: 0.3895 - loss: 1.4089 - val_accuracy: 0.3758 - val_loss: 1.3942\n",
            "\u001b[1m94/94\u001b[0m \u001b[32m━━━━━━━━━━━━━━━━━━━━\u001b[0m\u001b[37m\u001b[0m \u001b[1m9s\u001b[0m 93ms/step\n",
            "1 na int\n",
            "F1 Score on Test Set: 0.34\n",
            "Accuracy on Test Set: 0.36\n"
          ]
        }
      ],
      "source": [
        "run_int(sampled_data, \"tokenizer_clean\", \"model_clean\", False)"
      ]
    },
    {
      "cell_type": "code",
      "execution_count": null,
      "metadata": {
        "colab": {
          "base_uri": "https://localhost:8080/"
        },
        "id": "VsUu7YntFjbi",
        "outputId": "31700342-7af8-4ef7-bbbf-ed7b1242f842"
      },
      "outputs": [
        {
          "name": "stdout",
          "output_type": "stream",
          "text": [
            "Epoch 1/20\n"
          ]
        },
        {
          "name": "stderr",
          "output_type": "stream",
          "text": [
            "/usr/local/lib/python3.10/dist-packages/keras/src/layers/core/embedding.py:90: UserWarning: Argument `input_length` is deprecated. Just remove it.\n",
            "  warnings.warn(\n"
          ]
        },
        {
          "name": "stdout",
          "output_type": "stream",
          "text": [
            "\u001b[1m169/169\u001b[0m \u001b[32m━━━━━━━━━━━━━━━━━━━━\u001b[0m\u001b[37m\u001b[0m \u001b[1m115s\u001b[0m 668ms/step - accuracy: 0.2310 - loss: 1.5991 - val_accuracy: 0.3408 - val_loss: 1.4325\n",
            "Epoch 2/20\n",
            "\u001b[1m169/169\u001b[0m \u001b[32m━━━━━━━━━━━━━━━━━━━━\u001b[0m\u001b[37m\u001b[0m \u001b[1m141s\u001b[0m 657ms/step - accuracy: 0.3888 - loss: 1.3834 - val_accuracy: 0.3708 - val_loss: 1.3791\n",
            "Epoch 3/20\n",
            "\u001b[1m169/169\u001b[0m \u001b[32m━━━━━━━━━━━━━━━━━━━━\u001b[0m\u001b[37m\u001b[0m \u001b[1m140s\u001b[0m 645ms/step - accuracy: 0.4554 - loss: 1.2493 - val_accuracy: 0.3850 - val_loss: 1.3799\n",
            "Epoch 4/20\n",
            "\u001b[1m169/169\u001b[0m \u001b[32m━━━━━━━━━━━━━━━━━━━━\u001b[0m\u001b[37m\u001b[0m \u001b[1m140s\u001b[0m 639ms/step - accuracy: 0.5464 - loss: 1.0827 - val_accuracy: 0.4167 - val_loss: 1.3758\n",
            "Epoch 5/20\n",
            "\u001b[1m169/169\u001b[0m \u001b[32m━━━━━━━━━━━━━━━━━━━━\u001b[0m\u001b[37m\u001b[0m \u001b[1m143s\u001b[0m 642ms/step - accuracy: 0.6252 - loss: 0.9430 - val_accuracy: 0.4150 - val_loss: 1.4071\n",
            "Epoch 6/20\n",
            "\u001b[1m169/169\u001b[0m \u001b[32m━━━━━━━━━━━━━━━━━━━━\u001b[0m\u001b[37m\u001b[0m \u001b[1m146s\u001b[0m 667ms/step - accuracy: 0.6760 - loss: 0.8311 - val_accuracy: 0.4158 - val_loss: 1.5292\n",
            "Epoch 7/20\n",
            "\u001b[1m169/169\u001b[0m \u001b[32m━━━━━━━━━━━━━━━━━━━━\u001b[0m\u001b[37m\u001b[0m \u001b[1m139s\u001b[0m 647ms/step - accuracy: 0.7313 - loss: 0.7102 - val_accuracy: 0.4192 - val_loss: 1.6814\n",
            "\u001b[1m94/94\u001b[0m \u001b[32m━━━━━━━━━━━━━━━━━━━━\u001b[0m\u001b[37m\u001b[0m \u001b[1m7s\u001b[0m 73ms/step\n",
            "2 na int\n",
            "Accuracy on Test Set: 0.4103333333333333\n",
            "F1 Score on Test Set: 0.39\n"
          ]
        },
        {
          "data": {
            "text/plain": [
              "(<Sequential name=sequential_24, built=True>,\n",
              " <keras.src.callbacks.history.History at 0x78adae2ce950>)"
            ]
          },
          "execution_count": 65,
          "metadata": {},
          "output_type": "execute_result"
        }
      ],
      "source": [
        "run2_int(sampled_data, \"tokenizer_clean\", \"model_clean\", False)"
      ]
    },
    {
      "cell_type": "code",
      "execution_count": null,
      "metadata": {
        "colab": {
          "background_save": true,
          "base_uri": "https://localhost:8080/"
        },
        "id": "tiVtK0IBMPqf",
        "outputId": "c882f1d4-cffa-4cc4-d596-948758902df0"
      },
      "outputs": [
        {
          "name": "stdout",
          "output_type": "stream",
          "text": [
            "Epoch 1/20\n"
          ]
        },
        {
          "name": "stderr",
          "output_type": "stream",
          "text": [
            "/usr/local/lib/python3.10/dist-packages/keras/src/layers/core/embedding.py:90: UserWarning: Argument `input_length` is deprecated. Just remove it.\n",
            "  warnings.warn(\n"
          ]
        },
        {
          "name": "stdout",
          "output_type": "stream",
          "text": [
            "\u001b[1m169/169\u001b[0m \u001b[32m━━━━━━━━━━━━━━━━━━━━\u001b[0m\u001b[37m\u001b[0m \u001b[1m545s\u001b[0m 3s/step - accuracy: 0.2288 - loss: 1.5963 - val_accuracy: 0.3092 - val_loss: 1.4742\n",
            "Epoch 2/20\n",
            "\u001b[1m169/169\u001b[0m \u001b[32m━━━━━━━━━━━━━━━━━━━━\u001b[0m\u001b[37m\u001b[0m \u001b[1m562s\u001b[0m 3s/step - accuracy: 0.3215 - loss: 1.4721 - val_accuracy: 0.3183 - val_loss: 1.5340\n",
            "Epoch 3/20\n",
            "\u001b[1m169/169\u001b[0m \u001b[32m━━━━━━━━━━━━━━━━━━━━\u001b[0m\u001b[37m\u001b[0m \u001b[1m538s\u001b[0m 3s/step - accuracy: 0.3621 - loss: 1.4084 - val_accuracy: 0.3975 - val_loss: 1.3499\n",
            "Epoch 4/20\n",
            "\u001b[1m169/169\u001b[0m \u001b[32m━━━━━━━━━━━━━━━━━━━━\u001b[0m\u001b[37m\u001b[0m \u001b[1m561s\u001b[0m 3s/step - accuracy: 0.4637 - loss: 1.2076 - val_accuracy: 0.4017 - val_loss: 1.3907\n",
            "Epoch 5/20\n",
            "\u001b[1m169/169\u001b[0m \u001b[32m━━━━━━━━━━━━━━━━━━━━\u001b[0m\u001b[37m\u001b[0m \u001b[1m562s\u001b[0m 3s/step - accuracy: 0.5427 - loss: 1.0714 - val_accuracy: 0.4008 - val_loss: 1.4170\n",
            "Epoch 6/20\n",
            "\u001b[1m169/169\u001b[0m \u001b[32m━━━━━━━━━━━━━━━━━━━━\u001b[0m\u001b[37m\u001b[0m \u001b[1m566s\u001b[0m 3s/step - accuracy: 0.5827 - loss: 1.0082 - val_accuracy: 0.3992 - val_loss: 1.4908\n",
            "\u001b[1m94/94\u001b[0m \u001b[32m━━━━━━━━━━━━━━━━━━━━\u001b[0m\u001b[37m\u001b[0m \u001b[1m62s\u001b[0m 644ms/step\n",
            "Bi\n",
            "Accuracy on Test Set: 0.39\n",
            "F1 Score on Test Set: 0.37\n"
          ]
        },
        {
          "data": {
            "text/plain": [
              "(<Sequential name=sequential_25, built=True>,\n",
              " <keras.src.callbacks.history.History at 0x78adae135c30>)"
            ]
          },
          "execution_count": 66,
          "metadata": {},
          "output_type": "execute_result"
        }
      ],
      "source": [
        "run2_bi(sampled_data, \"tokenizer_clean\", \"model_clean\", False)"
      ]
    },
    {
      "cell_type": "code",
      "execution_count": null,
      "metadata": {
        "id": "TViO61P_arXH"
      },
      "outputs": [],
      "source": [
        "run2_gru(sampled_data, \"tokenizer_clean\", \"model_clean\", False)"
      ]
    },
    {
      "cell_type": "code",
      "execution_count": null,
      "metadata": {
        "id": "OzUvv7tSYw7u"
      },
      "outputs": [],
      "source": [
        "run2_cnn_rnn(sampled_data, \"tokenizer_clean\", \"model_clean\", False)"
      ]
    },
    {
      "cell_type": "code",
      "execution_count": null,
      "metadata": {
        "colab": {
          "base_uri": "https://localhost:8080/"
        },
        "id": "ZUrm3lz3dVYj",
        "outputId": "eec92efe-6c79-4fff-f31c-c79745042c7d"
      },
      "outputs": [
        {
          "name": "stdout",
          "output_type": "stream",
          "text": [
            "SVC\n",
            "Accuracy on Test Set: 0.547372184483375\n",
            "F1 Score on Test Set: 0.52\n"
          ]
        },
        {
          "data": {
            "text/plain": [
              "(SVC(C=1, kernel='linear', probability=True),\n",
              " TfidfVectorizer(max_features=5000, stop_words='english'))"
            ]
          },
          "execution_count": 24,
          "metadata": {},
          "output_type": "execute_result"
        }
      ],
      "source": [
        "run2_svm(df, \"tokenizer_clean\", \"model_clean\", False)"
      ]
    },
    {
      "cell_type": "code",
      "execution_count": null,
      "metadata": {
        "colab": {
          "base_uri": "https://localhost:8080/"
        },
        "id": "MP6dPgsi2cfD",
        "outputId": "db63a82f-74c5-480d-e85c-7a9833ae4967"
      },
      "outputs": [
        {
          "output_type": "stream",
          "name": "stderr",
          "text": [
            "/usr/local/lib/python3.10/dist-packages/sklearn/linear_model/_logistic.py:469: ConvergenceWarning: lbfgs failed to converge (status=1):\n",
            "STOP: TOTAL NO. of ITERATIONS REACHED LIMIT.\n",
            "\n",
            "Increase the number of iterations (max_iter) or scale the data as shown in:\n",
            "    https://scikit-learn.org/stable/modules/preprocessing.html\n",
            "Please also refer to the documentation for alternative solver options:\n",
            "    https://scikit-learn.org/stable/modules/linear_model.html#logistic-regression\n",
            "  n_iter_i = _check_optimize_result(\n"
          ]
        },
        {
          "output_type": "stream",
          "name": "stdout",
          "text": [
            "run_logistic_regression\n",
            "Accuracy: 0.5067929924919556\n",
            "F1 Score: 0.50\n",
            "\n",
            "Classification Report:\n",
            "               precision    recall  f1-score   support\n",
            "\n",
            "           0       0.55      0.47      0.50       520\n",
            "           1       0.32      0.27      0.29       461\n",
            "           2       0.29      0.30      0.29       661\n",
            "           3       0.39      0.39      0.39      1453\n",
            "           4       0.65      0.68      0.66      2499\n",
            "\n",
            "    accuracy                           0.51      5594\n",
            "   macro avg       0.44      0.42      0.43      5594\n",
            "weighted avg       0.50      0.51      0.50      5594\n",
            "\n"
          ]
        }
      ],
      "source": [
        "pipeline, label_encoder = run_logistic_regression(df, save = True)"
      ]
    }
  ],
  "metadata": {
    "colab": {
      "collapsed_sections": [
        "NZo1Rc4dXeL4",
        "Y1fwYP830TWA"
      ],
      "provenance": []
    },
    "kernelspec": {
      "display_name": "Python 3",
      "name": "python3"
    },
    "language_info": {
      "name": "python"
    }
  },
  "nbformat": 4,
  "nbformat_minor": 0
}