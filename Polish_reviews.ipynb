{
  "nbformat": 4,
  "nbformat_minor": 0,
  "metadata": {
    "colab": {
      "provenance": []
    },
    "kernelspec": {
      "name": "python3",
      "display_name": "Python 3"
    },
    "language_info": {
      "name": "python"
    }
  },
  "cells": [
    {
      "cell_type": "markdown",
      "source": [
        "# imports and functions"
      ],
      "metadata": {
        "id": "hknJTfuC-rHJ"
      }
    },
    {
      "cell_type": "code",
      "source": [
        "import numpy as np\n",
        "import pandas as pd\n",
        "import matplotlib.pyplot as plt\n",
        "from collections import defaultdict\n",
        "\n",
        "import tensorflow\n",
        "from tensorflow.keras.models import Sequential\n",
        "from tensorflow.keras.layers import Embedding, LSTM, Dense, Dropout, Bidirectional, GRU, Conv1D, MaxPooling1D\n",
        "from tensorflow.keras.preprocessing.sequence import pad_sequences\n",
        "from tensorflow.keras.preprocessing.text import Tokenizer\n",
        "from tensorflow.keras.callbacks import EarlyStopping\n",
        "from tensorflow.keras.metrics import MeanAbsoluteError\n",
        "from tensorflow.keras.losses import MAE\n",
        "\n",
        "from sklearn.svm import SVC\n",
        "from sklearn.model_selection import train_test_split\n",
        "from sklearn.feature_extraction.text import TfidfVectorizer, CountVectorizer\n",
        "from sklearn.linear_model import LinearRegression, LogisticRegression\n",
        "from sklearn.metrics import mean_squared_error, mean_absolute_error, accuracy_score,  r2_score, f1_score, classification_report\n",
        "from sklearn.pipeline import Pipeline\n",
        "from sklearn.preprocessing import LabelEncoder\n",
        "\n",
        "import joblib"
      ],
      "metadata": {
        "id": "LKdQ5rW6-PU0"
      },
      "execution_count": null,
      "outputs": []
    },
    {
      "cell_type": "code",
      "source": [
        "def show(df):\n",
        "  df['Rating'].plot(kind='hist', bins=20, title='Rating')\n",
        "  plt.gca().spines[['top', 'right',]].set_visible(False)\n",
        "  df.info()"
      ],
      "metadata": {
        "id": "ebEMTqQZ-NqI"
      },
      "execution_count": null,
      "outputs": []
    },
    {
      "cell_type": "code",
      "source": [
        "def custom_accuracy(y_true, y_pred):\n",
        "    tolerance = 0.5\n",
        "    return np.mean(np.abs(y_true - y_pred) <= tolerance)"
      ],
      "metadata": {
        "id": "w02BgHuL-dtL"
      },
      "execution_count": null,
      "outputs": []
    },
    {
      "cell_type": "code",
      "source": [
        "def predict_review_rating(review_text, tok_name, model_name):\n",
        "    tokenizer = joblib.load(f'{tok_name}.pkl')\n",
        "    model = load_model(f'{model_name}.h5', custom_objects={'mse': metrics.MeanSquaredError})\n",
        "\n",
        "    review_sequence = tokenizer.texts_to_sequences([review_text])\n",
        "    review_padded = pad_sequences(review_sequence, maxlen=500)\n",
        "\n",
        "    predicted_rating = model.predict(review_padded)\n",
        "    return round(predicted_rating[0][0], 2)"
      ],
      "metadata": {
        "id": "AWrefmQo-heY"
      },
      "execution_count": null,
      "outputs": []
    },
    {
      "cell_type": "code",
      "source": [
        "#tokenization with our own solution (for research topic)\n",
        "\n",
        "class SimpleTokenizer:\n",
        "    def __init__(self, num_words=None):\n",
        "        self.num_words = num_words\n",
        "        self.word_index = {}\n",
        "        self.index_word = {}\n",
        "\n",
        "    def fit_on_texts(self, texts):\n",
        "        word_counts = defaultdict(int)\n",
        "        for text in texts:\n",
        "            for word in text.split():\n",
        "                word_counts[word] += 1\n",
        "\n",
        "        sorted_words = sorted(word_counts.items(), key=lambda x: x[1], reverse=True)\n",
        "        if self.num_words:\n",
        "            sorted_words = sorted_words[:self.num_words - 1]\n",
        "\n",
        "        self.word_index = {word: i + 1 for i, (word, _) in enumerate(sorted_words)}\n",
        "        self.index_word = {i: word for word, i in self.word_index.items()}\n",
        "\n",
        "    def texts_to_sequences(self, texts):\n",
        "        sequences = []\n",
        "        for text in texts:\n",
        "            sequences.append([self.word_index.get(word, 0) for word in text.split()])\n",
        "        return sequences\n",
        "\n",
        "    def pad_sequences(self, sequences, maxlen):\n",
        "        padded_sequences = np.zeros((len(sequences), maxlen), dtype=int)\n",
        "        for i, seq in enumerate(sequences):\n",
        "            if len(seq) > maxlen:\n",
        "                padded_sequences[i, :] = seq[:maxlen]\n",
        "            else:\n",
        "                padded_sequences[i, -len(seq):] = seq\n",
        "        return padded_sequences"
      ],
      "metadata": {
        "id": "sxjcS33ytZ-X"
      },
      "execution_count": null,
      "outputs": []
    },
    {
      "cell_type": "markdown",
      "source": [
        "# Benchmark models\n",
        "\n",
        "\n"
      ],
      "metadata": {
        "id": "8cUsvnBP-umb"
      }
    },
    {
      "cell_type": "code",
      "source": [
        "def run(data, tok_name = 'tokenizer', model_name = 'model', save = False):\n",
        "  tokenizer = Tokenizer(num_words=5000)\n",
        "  tokenizer.fit_on_texts(data['Review'])\n",
        "  X = tokenizer.texts_to_sequences(data['Review'])\n",
        "  X = pad_sequences(X, maxlen=500)\n",
        "  y = data['Rating'].values\n",
        "\n",
        "  X_train, X_test, y_train, y_test = train_test_split(X, y, test_size=0.2, random_state=42)\n",
        "\n",
        "  model = Sequential()\n",
        "  model.add(Embedding(input_dim=5000, output_dim=128, input_length=500))\n",
        "  model.add(LSTM(64, dropout=0.2, recurrent_dropout=0.2))\n",
        "  model.add(Dense(1, activation='linear'))\n",
        "\n",
        "  model.compile(optimizer='adam', loss='mse', metrics=['accuracy','mae'])\n",
        "  history = model.fit(X_train, y_train, epochs=3, batch_size=64, validation_split=0.1)\n",
        "\n",
        "  y_pred = model.predict(X_test).flatten()\n",
        "\n",
        "  y_test_classes = np.digitize(y_test, bins = [0.5, 1.5, 2.5, 3.5, 4.5, 5.5, 6.5, 7.5, 8.5, 9.5]) - 1\n",
        "  y_pred_classes = np.digitize(y_pred, bins = [0.5, 1.5, 2.5, 3.5, 4.5, 5.5, 6.5, 7.5, 8.5, 9.5]) - 1\n",
        "\n",
        "  f1 = f1_score(y_test_classes, y_pred_classes, average='weighted')\n",
        "  mae = mean_absolute_error(y_test, y_pred)\n",
        "\n",
        "  loss, accuracy, mae_evaluate = model.evaluate(X_test, y_test)\n",
        "  acc = custom_accuracy(y_test, y_pred)\n",
        "  print('1 - benchmark')\n",
        "  print(f'MAE on Test Set: {mae}')\n",
        "  print(f'MAE_ev on Test Set: {mae_evaluate}')\n",
        "  print(f'Accuracy on Test Set: {accuracy}')\n",
        "  print(f'F1 Score on Test Set: {f1:.2f}')\n",
        "  print(f'Custom Accuracy (within tolerance): {acc * 100:.2f}%')\n",
        "\n",
        "  if save:\n",
        "    joblib.dump(tokenizer, f'{tok_name}.pkl')\n",
        "    model.save(f'{model_name}.h5')"
      ],
      "metadata": {
        "id": "F66ygSop-Fhz"
      },
      "execution_count": null,
      "outputs": []
    },
    {
      "cell_type": "code",
      "source": [
        "def run2(data, tok_name='tokenizer', model_name='model', save=False):\n",
        "    tokenizer = Tokenizer(num_words=5000, oov_token=\"<OOV>\")\n",
        "    tokenizer.fit_on_texts(data['Review'])\n",
        "    X = tokenizer.texts_to_sequences(data['Review'])\n",
        "    X = pad_sequences(X, maxlen=500)\n",
        "    y = data['Rating'].values\n",
        "\n",
        "    X_train, X_test, y_train, y_test = train_test_split(X, y, test_size=0.2, random_state=42)\n",
        "\n",
        "    model = Sequential([\n",
        "        Embedding(input_dim=5000, output_dim=128, input_length=500),\n",
        "        LSTM(64, dropout=0.2),\n",
        "        Dense(32, activation='relu'),\n",
        "        Dense(1, activation='relu')\n",
        "    ])\n",
        "    model.compile(optimizer='adam', loss='mae', metrics=['accuracy','mae'])\n",
        "\n",
        "    early_stop = EarlyStopping(monitor='val_loss', patience=3, restore_best_weights=True)\n",
        "    history = model.fit(\n",
        "        X_train, y_train,\n",
        "        epochs=20, batch_size=64,\n",
        "        validation_split=0.1,\n",
        "        callbacks=[early_stop]\n",
        "    )\n",
        "\n",
        "    y_pred = model.predict(X_test).flatten()\n",
        "\n",
        "    y_test_classes = np.digitize(y_test, bins = [0.5, 1.5, 2.5, 3.5, 4.5, 5.5, 6.5, 7.5, 8.5, 9.5]) - 1\n",
        "    y_pred_classes = np.digitize(y_pred, bins = [0.5, 1.5, 2.5, 3.5, 4.5, 5.5, 6.5, 7.5, 8.5, 9.5]) - 1\n",
        "\n",
        "    f1 = f1_score(y_test_classes, y_pred_classes, average='weighted')\n",
        "    mae = mean_absolute_error(y_test, y_pred)\n",
        "\n",
        "    loss, accuracy, mae_evaluate = model.evaluate(X_test, y_test)\n",
        "    acc = custom_accuracy(y_test, y_pred)\n",
        "    print('2 - benchmark')\n",
        "    print(f'MAE on Test Set: {mae}')\n",
        "    print(f'MAE_ev on Test Set: {mae_evaluate}')\n",
        "    print(f'Accuracy on Test Set: {accuracy}')\n",
        "    print(f'F1 Score on Test Set: {f1:.2f}')\n",
        "    print(f'Custom Accuracy (within tolerance): {acc * 100:.2f}%')\n",
        "\n",
        "    if save:\n",
        "      joblib.dump(tokenizer, f'{tok_name}.pkl')\n",
        "      model.save(f'{model_name}.h5')\n",
        "\n",
        "    return model, history\n"
      ],
      "metadata": {
        "id": "rPWSH92_-IkG"
      },
      "execution_count": null,
      "outputs": []
    },
    {
      "cell_type": "markdown",
      "source": [
        "#Benchmark models with integer outputs"
      ],
      "metadata": {
        "id": "MO4_-T0jaPTM"
      }
    },
    {
      "cell_type": "code",
      "source": [
        "def run_int(data, tok_name='tokenizer', model_name='model', save=False):\n",
        "    tokenizer = Tokenizer(num_words=5000)\n",
        "    tokenizer.fit_on_texts(data['Review'])\n",
        "    X = tokenizer.texts_to_sequences(data['Review'])\n",
        "    X = pad_sequences(X, maxlen=500)\n",
        "    y = data['Rating'].values - 1\n",
        "\n",
        "    X_train, X_test, y_train, y_test = train_test_split(X, y, test_size=0.2, random_state=42)\n",
        "\n",
        "    model = Sequential()\n",
        "    model.add(Embedding(input_dim=5000, output_dim=128, input_length=500))\n",
        "    model.add(LSTM(64, dropout=0.2, recurrent_dropout=0.2))\n",
        "    model.add(Dense(10, activation='softmax'))\n",
        "\n",
        "    model.compile(optimizer='adam', loss='sparse_categorical_crossentropy', metrics=['accuracy'])\n",
        "\n",
        "    history = model.fit(X_train, y_train, epochs=3, batch_size=64, validation_split=0.1)\n",
        "\n",
        "    y_pred_classes = np.argmax(model.predict(X_test), axis=1)\n",
        "\n",
        "    f1 = f1_score(y_test, y_pred_classes, average='weighted')\n",
        "    accuracy = accuracy_score(y_test, y_pred_classes)\n",
        "    print('1 na int')\n",
        "    print(f'F1 Score on Test Set: {f1:.2f}')\n",
        "    print(f'Accuracy on Test Set: {accuracy:.2f}')\n",
        "\n",
        "    if save:\n",
        "        joblib.dump(tokenizer, f'{tok_name}.pkl')\n",
        "        model.save(f'{model_name}.h5')\n"
      ],
      "metadata": {
        "id": "zthFYH6BDKVM"
      },
      "execution_count": null,
      "outputs": []
    },
    {
      "cell_type": "code",
      "source": [
        "def run2_int(data, tok_name='tokenizer', model_name='model', save=False):\n",
        "    tokenizer = Tokenizer(num_words=5000, oov_token=\"<OOV>\")\n",
        "    tokenizer.fit_on_texts(data['Review'])\n",
        "    X = tokenizer.texts_to_sequences(data['Review'])\n",
        "    X = pad_sequences(X, maxlen=500)\n",
        "\n",
        "    y = data['Rating'].values - 1\n",
        "\n",
        "    X_train, X_test, y_train, y_test = train_test_split(X, y, test_size=0.2, random_state=42)\n",
        "\n",
        "    model = Sequential([\n",
        "        Embedding(input_dim=5000, output_dim=128, input_length=500),\n",
        "        LSTM(64, dropout=0.2),\n",
        "        Dense(32, activation='relu'),\n",
        "        Dense(10, activation='softmax')\n",
        "    ])\n",
        "\n",
        "    model.compile(optimizer='adam', loss='sparse_categorical_crossentropy', metrics=['accuracy'])\n",
        "\n",
        "    early_stop = EarlyStopping(monitor='val_loss', patience=3, restore_best_weights=True)\n",
        "    history = model.fit(\n",
        "        X_train, y_train,\n",
        "        epochs=20, batch_size=64,\n",
        "        validation_split=0.1,\n",
        "        callbacks=[early_stop]\n",
        "    )\n",
        "\n",
        "    y_pred_probs = model.predict(X_test)\n",
        "    y_pred_classes = np.argmax(y_pred_probs, axis=1)\n",
        "\n",
        "    accuracy = accuracy_score(y_test, y_pred_classes)\n",
        "    f1 = f1_score(y_test, y_pred_classes, average='weighted')\n",
        "    print('2 na int')\n",
        "    print(f'Accuracy on Test Set: {accuracy}')\n",
        "    print(f'F1 Score on Test Set: {f1:.2f}')\n",
        "\n",
        "    if save:\n",
        "        joblib.dump(tokenizer, f'{tok_name}.pkl')\n",
        "        model.save(f'{model_name}.h5')\n",
        "\n",
        "    return model, history\n"
      ],
      "metadata": {
        "id": "gwrSzuIzFfXc"
      },
      "execution_count": null,
      "outputs": []
    },
    {
      "cell_type": "code",
      "source": [
        "def run2_bi(data, tok_name='tokenizer', model_name='model', save=False):\n",
        "    tokenizer = Tokenizer(num_words=10000, oov_token=\"<OOV>\")\n",
        "    tokenizer.fit_on_texts(data['Review'])\n",
        "    X = tokenizer.texts_to_sequences(data['Review'])\n",
        "    X = pad_sequences(X, maxlen=500)\n",
        "\n",
        "    y = data['Rating'].values - 1\n",
        "\n",
        "    X_train, X_test, y_train, y_test = train_test_split(X, y, test_size=0.2, random_state=42)\n",
        "\n",
        "    model = Sequential([\n",
        "      Embedding(input_dim=10000, output_dim=128, input_length=500),\n",
        "      Bidirectional(LSTM(128, dropout=0.2, return_sequences=True)),\n",
        "      LSTM(64, dropout=0.2),\n",
        "      Dense(64, activation='relu'),\n",
        "      Dense(10, activation='softmax')\n",
        "    ])\n",
        "\n",
        "    model.compile(optimizer='adam', loss='sparse_categorical_crossentropy', metrics=['accuracy'])\n",
        "\n",
        "    early_stop = EarlyStopping(monitor='val_loss', patience=3, restore_best_weights=True)\n",
        "    history = model.fit(\n",
        "        X_train, y_train,\n",
        "        epochs=20, batch_size=64,\n",
        "        validation_split=0.1,\n",
        "        callbacks=[early_stop]\n",
        "    )\n",
        "\n",
        "    y_pred_probs = model.predict(X_test)\n",
        "    y_pred_classes = np.argmax(y_pred_probs, axis=1)\n",
        "\n",
        "    accuracy = accuracy_score(y_test, y_pred_classes)\n",
        "    f1 = f1_score(y_test, y_pred_classes, average='weighted')\n",
        "    print('Bi')\n",
        "    print(f'Accuracy on Test Set: {accuracy}')\n",
        "    print(f'F1 Score on Test Set: {f1:.2f}')\n",
        "\n",
        "    if save:\n",
        "        joblib.dump(tokenizer, f'{tok_name}.pkl')\n",
        "        model.save(f'{model_name}.h5')\n",
        "\n",
        "    return model, history\n"
      ],
      "metadata": {
        "id": "p288JXk4Ls4z"
      },
      "execution_count": null,
      "outputs": []
    },
    {
      "cell_type": "markdown",
      "source": [
        "# GRU"
      ],
      "metadata": {
        "id": "Mic4dOKjaL5T"
      }
    },
    {
      "cell_type": "code",
      "source": [
        "def run2_gru(data, tok_name='tokenizer', model_name='model', save=False):\n",
        "\n",
        "    tokenizer = Tokenizer(num_words=5000, oov_token=\"<OOV>\")\n",
        "    tokenizer.fit_on_texts(data['Review'])\n",
        "    X = tokenizer.texts_to_sequences(data['Review'])\n",
        "    X = pad_sequences(X, maxlen=500)\n",
        "\n",
        "\n",
        "    y = data['Rating'].values - 1\n",
        "\n",
        "\n",
        "    X_train, X_test, y_train, y_test = train_test_split(X, y, test_size=0.2, random_state=42)\n",
        "\n",
        "\n",
        "    model = Sequential([\n",
        "        Embedding(input_dim=5000, output_dim=128, input_length=500),\n",
        "        GRU(128, dropout=0.2),\n",
        "        Dense(32, activation='relu'),\n",
        "        Dense(10, activation='softmax')\n",
        "    ])\n",
        "\n",
        "\n",
        "    model.compile(optimizer='adam', loss='sparse_categorical_crossentropy', metrics=['accuracy'])\n",
        "\n",
        "    early_stop = EarlyStopping(monitor='val_loss', patience=3, restore_best_weights=True)\n",
        "\n",
        "    history = model.fit(\n",
        "        X_train, y_train,\n",
        "        epochs=20, batch_size=64,\n",
        "        validation_split=0.1,\n",
        "        callbacks=[early_stop]\n",
        "    )\n",
        "\n",
        "    y_pred_probs = model.predict(X_test)\n",
        "    y_pred_classes = np.argmax(y_pred_probs, axis=1)\n",
        "\n",
        "    accuracy = accuracy_score(y_test, y_pred_classes)\n",
        "    f1 = f1_score(y_test, y_pred_classes, average='weighted')\n",
        "    print('GRU')\n",
        "    print(f'Accuracy on Test Set: {accuracy}')\n",
        "    print(f'F1 Score on Test Set: {f1:.2f}')\n",
        "\n",
        "    if save:\n",
        "        joblib.dump(tokenizer, f'{tok_name}.pkl')\n",
        "        model.save(f'{model_name}.h5')\n",
        "\n",
        "    return model, history\n"
      ],
      "metadata": {
        "id": "HmA3-tCIadWo"
      },
      "execution_count": null,
      "outputs": []
    },
    {
      "cell_type": "markdown",
      "source": [
        "# CNN + RNN hybrid"
      ],
      "metadata": {
        "id": "rMOyMIqKXm8E"
      }
    },
    {
      "cell_type": "code",
      "source": [
        "def run2_cnn_rnn(data, tok_name='tokenizer', model_name='model', save=False):\n",
        "\n",
        "    tokenizer = Tokenizer(num_words=5000, oov_token=\"<OOV>\")\n",
        "    tokenizer.fit_on_texts(data['Review'])\n",
        "    X = tokenizer.texts_to_sequences(data['Review'])\n",
        "    X = pad_sequences(X, maxlen=500)\n",
        "\n",
        "    y = data['Rating'].values - 1\n",
        "\n",
        "    X_train, X_test, y_train, y_test = train_test_split(X, y, test_size=0.2, random_state=42)\n",
        "\n",
        "    model = Sequential([\n",
        "        Embedding(input_dim=5000, output_dim=128, input_length=500),\n",
        "        Conv1D(128, kernel_size=5, activation='relu'),\n",
        "        MaxPooling1D(pool_size=4),\n",
        "        LSTM(64, dropout=0.2, return_sequences=False),\n",
        "        Dense(64, activation='relu'),\n",
        "        Dropout(0.3),\n",
        "        Dense(10, activation='softmax')\n",
        "    ])\n",
        "\n",
        "    model.compile(optimizer='adam', loss='sparse_categorical_crossentropy', metrics=['accuracy'])\n",
        "\n",
        "    early_stop = EarlyStopping(monitor='val_loss', patience=3, restore_best_weights=True)\n",
        "\n",
        "    history = model.fit(\n",
        "        X_train, y_train,\n",
        "        epochs=20, batch_size=64,\n",
        "        validation_split=0.1,\n",
        "        callbacks=[early_stop]\n",
        "    )\n",
        "\n",
        "    y_pred_probs = model.predict(X_test)\n",
        "    y_pred_classes = np.argmax(y_pred_probs, axis=1)\n",
        "\n",
        "    accuracy = accuracy_score(y_test, y_pred_classes)\n",
        "    f1 = f1_score(y_test, y_pred_classes, average='weighted')\n",
        "    print('cnn+rnn')\n",
        "    print(f'Accuracy on Test Set: {accuracy}')\n",
        "    print(f'F1 Score on Test Set: {f1:.2f}')\n",
        "\n",
        "    if save:\n",
        "        joblib.dump(tokenizer, f'{tok_name}.pkl')\n",
        "        model.save(f'{model_name}.h5')\n",
        "\n",
        "    return model, history\n"
      ],
      "metadata": {
        "id": "lUy95bNOXqjY"
      },
      "execution_count": null,
      "outputs": []
    },
    {
      "cell_type": "markdown",
      "source": [
        "#SVC"
      ],
      "metadata": {
        "id": "NZo1Rc4dXeL4"
      }
    },
    {
      "cell_type": "code",
      "source": [
        "def run2_svm(data, vectorizer_name='tfidf_vectorizer', model_name='svm_model', save=False):\n",
        "\n",
        "    reviews = data['Review'].tolist()\n",
        "    ratings = data['Rating'].values - 1\n",
        "\n",
        "    vectorizer = TfidfVectorizer(max_features=5000, stop_words='english')\n",
        "    X = vectorizer.fit_transform(reviews).toarray()\n",
        "\n",
        "    X_train, X_test, y_train, y_test = train_test_split(X, ratings, test_size=0.2, random_state=42)\n",
        "\n",
        "    model = SVC(kernel='linear', C=1, probability=True)\n",
        "    model.fit(X_train, y_train)\n",
        "\n",
        "    y_pred = model.predict(X_test)\n",
        "\n",
        "    accuracy = accuracy_score(y_test, y_pred)\n",
        "    f1 = f1_score(y_test, y_pred, average='weighted')\n",
        "    print('SVC')\n",
        "    print(f'Accuracy on Test Set: {accuracy}')\n",
        "    print(f'F1 Score on Test Set: {f1:.2f}')\n",
        "\n",
        "    if save:\n",
        "        joblib.dump(vectorizer, f'{vectorizer_name}.pkl')\n",
        "        joblib.dump(model, f'{model_name}.pkl')\n",
        "\n",
        "    return model, vectorizer\n"
      ],
      "metadata": {
        "id": "RuCNsJVtXfxU"
      },
      "execution_count": null,
      "outputs": []
    },
    {
      "cell_type": "markdown",
      "source": [
        "# LogisticRegression"
      ],
      "metadata": {
        "id": "Y1fwYP830TWA"
      }
    },
    {
      "cell_type": "code",
      "source": [
        "def run_logistic_regression(data, target_col='Rating', text_col='Review', save=False, model_name='logistic_model'):\n",
        "\n",
        "    label_encoder = LabelEncoder()\n",
        "    y = label_encoder.fit_transform(data[target_col])\n",
        "\n",
        "    X_train, X_test, y_train, y_test = train_test_split(\n",
        "        data[text_col], y, test_size=0.2, random_state=42\n",
        "    )\n",
        "\n",
        "    pipeline = Pipeline([\n",
        "        ('vectorizer', CountVectorizer(max_features=5000, stop_words='english')),\n",
        "        ('classifier', LogisticRegression(max_iter=1000, solver='lbfgs', random_state=42))\n",
        "    ])\n",
        "\n",
        "    pipeline.fit(X_train, y_train)\n",
        "\n",
        "    y_pred = pipeline.predict(X_test)\n",
        "\n",
        "    acc = accuracy_score(y_test, y_pred)\n",
        "    f1 = f1_score(y_test, y_pred, average='weighted')\n",
        "    print(\"run_logistic_regression\")\n",
        "    print(f'Accuracy: {acc}')\n",
        "    print(f'F1 Score: {f1:.2f}')\n",
        "    print(\"\\nClassification Report:\\n\", classification_report(y_test, y_pred))\n",
        "\n",
        "    if save:\n",
        "        joblib.dump(pipeline, f'{model_name}.pkl')\n",
        "        joblib.dump(label_encoder, f'{model_name}_label_encoder.pkl')\n",
        "\n",
        "    return pipeline, label_encoder\n"
      ],
      "metadata": {
        "id": "JfE1AuI40WdD"
      },
      "execution_count": null,
      "outputs": []
    },
    {
      "cell_type": "markdown",
      "source": [
        "# run all"
      ],
      "metadata": {
        "id": "lUA88mEG2jlX"
      }
    },
    {
      "cell_type": "code",
      "source": [
        "df = pd.read_csv('/content/temp4.csv')"
      ],
      "metadata": {
        "id": "xmFFsQ5Z3wHt"
      },
      "execution_count": null,
      "outputs": []
    },
    {
      "cell_type": "code",
      "source": [
        "sampled_data = (\n",
        "    df.groupby('Rating', group_keys=False)\n",
        "    .apply(lambda x: x.sample(n=3000, random_state=42) if len(x) >= 3000 else x)\n",
        ")"
      ],
      "metadata": {
        "colab": {
          "base_uri": "https://localhost:8080/"
        },
        "id": "qfplU73I32hN",
        "outputId": "0f4297cd-846d-4ea4-ed49-205a673915fb"
      },
      "execution_count": null,
      "outputs": [
        {
          "output_type": "stream",
          "name": "stderr",
          "text": [
            "<ipython-input-6-9a4fffe4ca1c>:3: DeprecationWarning: DataFrameGroupBy.apply operated on the grouping columns. This behavior is deprecated, and in a future version of pandas the grouping columns will be excluded from the operation. Either pass `include_groups=False` to exclude the groupings or explicitly select the grouping columns after groupby to silence this warning.\n",
            "  .apply(lambda x: x.sample(n=3000, random_state=42) if len(x) >= 3000 else x)\n"
          ]
        }
      ]
    },
    {
      "cell_type": "code",
      "source": [
        "show(sampled_data)"
      ],
      "metadata": {
        "colab": {
          "base_uri": "https://localhost:8080/",
          "height": 678
        },
        "id": "d1roz5lIAAII",
        "outputId": "17608597-00bb-4d6a-a7a9-824704945afe"
      },
      "execution_count": null,
      "outputs": [
        {
          "output_type": "stream",
          "name": "stdout",
          "text": [
            "<class 'pandas.core.frame.DataFrame'>\n",
            "Index: 28885 entries, 4 to 24390\n",
            "Data columns (total 6 columns):\n",
            " #   Column        Non-Null Count  Dtype  \n",
            "---  ------        --------------  -----  \n",
            " 0   Unnamed: 0.1  28885 non-null  int64  \n",
            " 1   Unnamed: 0    23355 non-null  float64\n",
            " 2   Title         22053 non-null  object \n",
            " 3   URL           22053 non-null  object \n",
            " 4   Review        28885 non-null  object \n",
            " 5   Rating        28885 non-null  float64\n",
            "dtypes: float64(2), int64(1), object(3)\n",
            "memory usage: 1.5+ MB\n"
          ]
        },
        {
          "output_type": "display_data",
          "data": {
            "text/plain": [
              "<Figure size 640x480 with 1 Axes>"
            ],
            "image/png": "[encoded data removed]"
          },
          "metadata": {}
        }
      ]
    },
    {
      "cell_type": "code",
      "source": [
        "run(sampled_data, \"tokenizer_clean\", \"model_clean\", False)"
      ],
      "metadata": {
        "id": "xWObG-JJ-owv",
        "colab": {
          "base_uri": "https://localhost:8080/"
        },
        "outputId": "1df09d8b-fba8-432d-eb07-91899ffaa524"
      },
      "execution_count": null,
      "outputs": [
        {
          "output_type": "stream",
          "name": "stdout",
          "text": [
            "Epoch 1/3\n"
          ]
        },
        {
          "output_type": "stream",
          "name": "stderr",
          "text": [
            "/usr/local/lib/python3.10/dist-packages/keras/src/layers/core/embedding.py:90: UserWarning: Argument `input_length` is deprecated. Just remove it.\n",
            "  warnings.warn(\n"
          ]
        },
        {
          "output_type": "stream",
          "name": "stdout",
          "text": [
            "\u001b[1m325/325\u001b[0m \u001b[32m━━━━━━━━━━━━━━━━━━━━\u001b[0m\u001b[37m\u001b[0m \u001b[1m214s\u001b[0m 649ms/step - accuracy: 0.0702 - loss: 12.7801 - mae: 2.9039 - val_accuracy: 0.0775 - val_loss: 4.4447 - val_mae: 1.6861\n",
            "Epoch 2/3\n",
            "\u001b[1m325/325\u001b[0m \u001b[32m━━━━━━━━━━━━━━━━━━━━\u001b[0m\u001b[37m\u001b[0m \u001b[1m209s\u001b[0m 644ms/step - accuracy: 0.0807 - loss: 3.8672 - mae: 1.5686 - val_accuracy: 0.0775 - val_loss: 3.0964 - val_mae: 1.3910\n",
            "Epoch 3/3\n",
            "\u001b[1m325/325\u001b[0m \u001b[32m━━━━━━━━━━━━━━━━━━━━\u001b[0m\u001b[37m\u001b[0m \u001b[1m260s\u001b[0m 639ms/step - accuracy: 0.0803 - loss: 2.6283 - mae: 1.2850 - val_accuracy: 0.0775 - val_loss: 2.7163 - val_mae: 1.2986\n",
            "\u001b[1m181/181\u001b[0m \u001b[32m━━━━━━━━━━━━━━━━━━━━\u001b[0m\u001b[37m\u001b[0m \u001b[1m16s\u001b[0m 87ms/step\n",
            "\u001b[1m181/181\u001b[0m \u001b[32m━━━━━━━━━━━━━━━━━━━━\u001b[0m\u001b[37m\u001b[0m \u001b[1m14s\u001b[0m 79ms/step - accuracy: 0.0730 - loss: 2.9429 - mae: 1.3573\n",
            "1 - benchmark\n",
            "MAE on Test Set: 1.350948469210026\n",
            "MAE_ev on Test Set: 1.3509485721588135\n",
            "Accuracy on Test Set: 0.07564479857683182\n",
            "F1 Score on Test Set: 0.21\n",
            "Custom Accuracy (within tolerance): 22.88%\n"
          ]
        }
      ]
    },
    {
      "cell_type": "code",
      "source": [
        "run2(sampled_data, \"tokenizer_clean\", \"model_clean\", False)"
      ],
      "metadata": {
        "colab": {
          "base_uri": "https://localhost:8080/"
        },
        "id": "CISdR-GJr5Q9",
        "outputId": "48131374-2775-4665-88e0-ef3366f13ae7"
      },
      "execution_count": null,
      "outputs": [
        {
          "output_type": "stream",
          "name": "stdout",
          "text": [
            "Epoch 1/20\n"
          ]
        },
        {
          "output_type": "stream",
          "name": "stderr",
          "text": [
            "/usr/local/lib/python3.10/dist-packages/keras/src/layers/core/embedding.py:90: UserWarning: Argument `input_length` is deprecated. Just remove it.\n",
            "  warnings.warn(\n"
          ]
        },
        {
          "output_type": "stream",
          "name": "stdout",
          "text": [
            "\u001b[1m325/325\u001b[0m \u001b[32m━━━━━━━━━━━━━━━━━━━━\u001b[0m\u001b[37m\u001b[0m \u001b[1m207s\u001b[0m 627ms/step - accuracy: 0.0726 - loss: 2.8655 - mae: 2.8655 - val_accuracy: 0.0775 - val_loss: 1.7444 - val_mae: 1.7444\n",
            "Epoch 2/20\n",
            "\u001b[1m325/325\u001b[0m \u001b[32m━━━━━━━━━━━━━━━━━━━━\u001b[0m\u001b[37m\u001b[0m \u001b[1m205s\u001b[0m 630ms/step - accuracy: 0.0872 - loss: 1.5241 - mae: 1.5241 - val_accuracy: 0.0775 - val_loss: 1.3460 - val_mae: 1.3460\n",
            "Epoch 3/20\n",
            "\u001b[1m325/325\u001b[0m \u001b[32m━━━━━━━━━━━━━━━━━━━━\u001b[0m\u001b[37m\u001b[0m \u001b[1m260s\u001b[0m 624ms/step - accuracy: 0.0843 - loss: 1.2328 - mae: 1.2328 - val_accuracy: 0.0775 - val_loss: 1.2938 - val_mae: 1.2938\n",
            "Epoch 4/20\n",
            "\u001b[1m325/325\u001b[0m \u001b[32m━━━━━━━━━━━━━━━━━━━━\u001b[0m\u001b[37m\u001b[0m \u001b[1m204s\u001b[0m 628ms/step - accuracy: 0.0808 - loss: 1.0988 - mae: 1.0988 - val_accuracy: 0.0775 - val_loss: 1.2358 - val_mae: 1.2358\n",
            "Epoch 5/20\n",
            "\u001b[1m325/325\u001b[0m \u001b[32m━━━━━━━━━━━━━━━━━━━━\u001b[0m\u001b[37m\u001b[0m \u001b[1m262s\u001b[0m 628ms/step - accuracy: 0.0793 - loss: 0.9810 - mae: 0.9810 - val_accuracy: 0.0775 - val_loss: 1.2158 - val_mae: 1.2158\n",
            "Epoch 6/20\n",
            "\u001b[1m325/325\u001b[0m \u001b[32m━━━━━━━━━━━━━━━━━━━━\u001b[0m\u001b[37m\u001b[0m \u001b[1m266s\u001b[0m 642ms/step - accuracy: 0.0865 - loss: 0.9101 - mae: 0.9101 - val_accuracy: 0.0775 - val_loss: 1.2082 - val_mae: 1.2082\n",
            "Epoch 7/20\n",
            "\u001b[1m325/325\u001b[0m \u001b[32m━━━━━━━━━━━━━━━━━━━━\u001b[0m\u001b[37m\u001b[0m \u001b[1m259s\u001b[0m 631ms/step - accuracy: 0.0805 - loss: 0.8296 - mae: 0.8296 - val_accuracy: 0.0775 - val_loss: 1.1954 - val_mae: 1.1954\n",
            "Epoch 8/20\n",
            "\u001b[1m325/325\u001b[0m \u001b[32m━━━━━━━━━━━━━━━━━━━━\u001b[0m\u001b[37m\u001b[0m \u001b[1m202s\u001b[0m 623ms/step - accuracy: 0.0837 - loss: 0.7923 - mae: 0.7923 - val_accuracy: 0.0775 - val_loss: 1.1881 - val_mae: 1.1881\n",
            "Epoch 9/20\n",
            "\u001b[1m325/325\u001b[0m \u001b[32m━━━━━━━━━━━━━━━━━━━━\u001b[0m\u001b[37m\u001b[0m \u001b[1m258s\u001b[0m 612ms/step - accuracy: 0.0792 - loss: 0.7602 - mae: 0.7602 - val_accuracy: 0.0775 - val_loss: 1.1913 - val_mae: 1.1913\n",
            "Epoch 10/20\n",
            "\u001b[1m325/325\u001b[0m \u001b[32m━━━━━━━━━━━━━━━━━━━━\u001b[0m\u001b[37m\u001b[0m \u001b[1m209s\u001b[0m 632ms/step - accuracy: 0.0767 - loss: 0.7062 - mae: 0.7062 - val_accuracy: 0.0775 - val_loss: 1.1919 - val_mae: 1.1919\n",
            "Epoch 11/20\n",
            "\u001b[1m325/325\u001b[0m \u001b[32m━━━━━━━━━━━━━━━━━━━━\u001b[0m\u001b[37m\u001b[0m \u001b[1m206s\u001b[0m 633ms/step - accuracy: 0.0776 - loss: 0.6752 - mae: 0.6752 - val_accuracy: 0.0775 - val_loss: 1.1750 - val_mae: 1.1750\n",
            "Epoch 12/20\n",
            "\u001b[1m325/325\u001b[0m \u001b[32m━━━━━━━━━━━━━━━━━━━━\u001b[0m\u001b[37m\u001b[0m \u001b[1m293s\u001b[0m 726ms/step - accuracy: 0.0812 - loss: 0.6578 - mae: 0.6578 - val_accuracy: 0.0775 - val_loss: 1.2038 - val_mae: 1.2038\n",
            "Epoch 13/20\n",
            "\u001b[1m325/325\u001b[0m \u001b[32m━━━━━━━━━━━━━━━━━━━━\u001b[0m\u001b[37m\u001b[0m \u001b[1m214s\u001b[0m 657ms/step - accuracy: 0.0846 - loss: 0.6314 - mae: 0.6314 - val_accuracy: 0.0775 - val_loss: 1.1815 - val_mae: 1.1815\n",
            "Epoch 14/20\n",
            "\u001b[1m325/325\u001b[0m \u001b[32m━━━━━━━━━━━━━━━━━━━━\u001b[0m\u001b[37m\u001b[0m \u001b[1m255s\u001b[0m 637ms/step - accuracy: 0.0835 - loss: 0.6098 - mae: 0.6098 - val_accuracy: 0.0775 - val_loss: 1.1855 - val_mae: 1.1855\n",
            "\u001b[1m181/181\u001b[0m \u001b[32m━━━━━━━━━━━━━━━━━━━━\u001b[0m\u001b[37m\u001b[0m \u001b[1m14s\u001b[0m 78ms/step\n",
            "\u001b[1m181/181\u001b[0m \u001b[32m━━━━━━━━━━━━━━━━━━━━\u001b[0m\u001b[37m\u001b[0m \u001b[1m14s\u001b[0m 78ms/step - accuracy: 0.0730 - loss: 1.2169 - mae: 1.2169\n",
            "2 - benchmark\n",
            "MAE on Test Set: 1.2033021069943173\n",
            "MAE_ev on Test Set: 1.203302264213562\n",
            "Accuracy on Test Set: 0.07564479857683182\n",
            "F1 Score on Test Set: 0.31\n",
            "Custom Accuracy (within tolerance): 31.80%\n"
          ]
        },
        {
          "output_type": "execute_result",
          "data": {
            "text/plain": [
              "(<Sequential name=sequential_9, built=True>,\n",
              " <keras.src.callbacks.history.History at 0x78fca07eece0>)"
            ]
          },
          "metadata": {},
          "execution_count": 57
        }
      ]
    },
    {
      "cell_type": "code",
      "source": [
        "run_int(sampled_data, \"tokenizer_clean\", \"model_clean\", False)"
      ],
      "metadata": {
        "colab": {
          "base_uri": "https://localhost:8080/"
        },
        "id": "OaGaXk0ZDN-Z",
        "outputId": "d8f1bf7c-be8e-454e-f9f6-7354a4b05573"
      },
      "execution_count": null,
      "outputs": [
        {
          "output_type": "stream",
          "name": "stdout",
          "text": [
            "Epoch 1/3\n"
          ]
        },
        {
          "output_type": "stream",
          "name": "stderr",
          "text": [
            "/usr/local/lib/python3.10/dist-packages/keras/src/layers/core/embedding.py:90: UserWarning: Argument `input_length` is deprecated. Just remove it.\n",
            "  warnings.warn(\n"
          ]
        },
        {
          "output_type": "stream",
          "name": "stdout",
          "text": [
            "\u001b[1m325/325\u001b[0m \u001b[32m━━━━━━━━━━━━━━━━━━━━\u001b[0m\u001b[37m\u001b[0m \u001b[1m213s\u001b[0m 649ms/step - accuracy: 0.1676 - loss: 2.1619 - val_accuracy: 0.2627 - val_loss: 1.8241\n",
            "Epoch 2/3\n",
            "\u001b[1m325/325\u001b[0m \u001b[32m━━━━━━━━━━━━━━━━━━━━\u001b[0m\u001b[37m\u001b[0m \u001b[1m211s\u001b[0m 649ms/step - accuracy: 0.3016 - loss: 1.7474 - val_accuracy: 0.3289 - val_loss: 1.7128\n",
            "Epoch 3/3\n",
            "\u001b[1m325/325\u001b[0m \u001b[32m━━━━━━━━━━━━━━━━━━━━\u001b[0m\u001b[37m\u001b[0m \u001b[1m261s\u001b[0m 643ms/step - accuracy: 0.3820 - loss: 1.5694 - val_accuracy: 0.3531 - val_loss: 1.6447\n",
            "\u001b[1m181/181\u001b[0m \u001b[32m━━━━━━━━━━━━━━━━━━━━\u001b[0m\u001b[37m\u001b[0m \u001b[1m14s\u001b[0m 78ms/step\n",
            "1 na int\n",
            "F1 Score on Test Set: 0.33\n",
            "Accuracy on Test Set: 0.34\n"
          ]
        }
      ]
    },
    {
      "cell_type": "code",
      "source": [
        "run2_int(sampled_data, \"tokenizer_clean\", \"model_clean\", False)"
      ],
      "metadata": {
        "colab": {
          "base_uri": "https://localhost:8080/"
        },
        "id": "VsUu7YntFjbi",
        "outputId": "1d021edd-126f-4635-94cc-0a0d36cfb773"
      },
      "execution_count": null,
      "outputs": [
        {
          "output_type": "stream",
          "name": "stdout",
          "text": [
            "Epoch 1/20\n"
          ]
        },
        {
          "output_type": "stream",
          "name": "stderr",
          "text": [
            "/usr/local/lib/python3.10/dist-packages/keras/src/layers/core/embedding.py:90: UserWarning: Argument `input_length` is deprecated. Just remove it.\n",
            "  warnings.warn(\n"
          ]
        },
        {
          "output_type": "stream",
          "name": "stdout",
          "text": [
            "\u001b[1m325/325\u001b[0m \u001b[32m━━━━━━━━━━━━━━━━━━━━\u001b[0m\u001b[37m\u001b[0m \u001b[1m205s\u001b[0m 622ms/step - accuracy: 0.1534 - loss: 2.1881 - val_accuracy: 0.2523 - val_loss: 1.8542\n",
            "Epoch 2/20\n",
            "\u001b[1m325/325\u001b[0m \u001b[32m━━━━━━━━━━━━━━━━━━━━\u001b[0m\u001b[37m\u001b[0m \u001b[1m263s\u001b[0m 623ms/step - accuracy: 0.2966 - loss: 1.7334 - val_accuracy: 0.2717 - val_loss: 1.7521\n",
            "Epoch 3/20\n",
            "\u001b[1m325/325\u001b[0m \u001b[32m━━━━━━━━━━━━━━━━━━━━\u001b[0m\u001b[37m\u001b[0m \u001b[1m263s\u001b[0m 629ms/step - accuracy: 0.3517 - loss: 1.5812 - val_accuracy: 0.3367 - val_loss: 1.6608\n",
            "Epoch 4/20\n",
            "\u001b[1m325/325\u001b[0m \u001b[32m━━━━━━━━━━━━━━━━━━━━\u001b[0m\u001b[37m\u001b[0m \u001b[1m264s\u001b[0m 635ms/step - accuracy: 0.4222 - loss: 1.4244 - val_accuracy: 0.3527 - val_loss: 1.6886\n",
            "Epoch 5/20\n",
            "\u001b[1m325/325\u001b[0m \u001b[32m━━━━━━━━━━━━━━━━━━━━\u001b[0m\u001b[37m\u001b[0m \u001b[1m257s\u001b[0m 621ms/step - accuracy: 0.4784 - loss: 1.2763 - val_accuracy: 0.3890 - val_loss: 1.6510\n",
            "Epoch 6/20\n",
            "\u001b[1m325/325\u001b[0m \u001b[32m━━━━━━━━━━━━━━━━━━━━\u001b[0m\u001b[37m\u001b[0m \u001b[1m201s\u001b[0m 618ms/step - accuracy: 0.5388 - loss: 1.1644 - val_accuracy: 0.3868 - val_loss: 1.6845\n",
            "Epoch 7/20\n",
            "\u001b[1m325/325\u001b[0m \u001b[32m━━━━━━━━━━━━━━━━━━━━\u001b[0m\u001b[37m\u001b[0m \u001b[1m202s\u001b[0m 621ms/step - accuracy: 0.5626 - loss: 1.1028 - val_accuracy: 0.3959 - val_loss: 1.7334\n",
            "Epoch 8/20\n",
            "\u001b[1m325/325\u001b[0m \u001b[32m━━━━━━━━━━━━━━━━━━━━\u001b[0m\u001b[37m\u001b[0m \u001b[1m201s\u001b[0m 617ms/step - accuracy: 0.6201 - loss: 0.9760 - val_accuracy: 0.3946 - val_loss: 1.7764\n",
            "\u001b[1m181/181\u001b[0m \u001b[32m━━━━━━━━━━━━━━━━━━━━\u001b[0m\u001b[37m\u001b[0m \u001b[1m14s\u001b[0m 78ms/step\n",
            "2 na int\n",
            "Accuracy on Test Set: 0.36247187121343255\n",
            "F1 Score on Test Set: 0.35\n"
          ]
        },
        {
          "output_type": "execute_result",
          "data": {
            "text/plain": [
              "(<Sequential name=sequential_11, built=True>,\n",
              " <keras.src.callbacks.history.History at 0x78fca07ffca0>)"
            ]
          },
          "metadata": {},
          "execution_count": 59
        }
      ]
    },
    {
      "cell_type": "code",
      "source": [
        "run2_bi(sampled_data, \"tokenizer_clean\", \"model_clean\", False)"
      ],
      "metadata": {
        "colab": {
          "base_uri": "https://localhost:8080/"
        },
        "id": "tiVtK0IBMPqf",
        "outputId": "56db0226-33ba-4d82-b2c2-47cadc53c54d"
      },
      "execution_count": null,
      "outputs": [
        {
          "output_type": "stream",
          "name": "stdout",
          "text": [
            "Epoch 1/20\n"
          ]
        },
        {
          "output_type": "stream",
          "name": "stderr",
          "text": [
            "/usr/local/lib/python3.10/dist-packages/keras/src/layers/core/embedding.py:90: UserWarning: Argument `input_length` is deprecated. Just remove it.\n",
            "  warnings.warn(\n"
          ]
        },
        {
          "output_type": "stream",
          "name": "stdout",
          "text": [
            "\u001b[1m325/325\u001b[0m \u001b[32m━━━━━━━━━━━━━━━━━━━━\u001b[0m\u001b[37m\u001b[0m \u001b[1m1109s\u001b[0m 3s/step - accuracy: 0.1657 - loss: 2.1370 - val_accuracy: 0.2761 - val_loss: 1.7827\n",
            "Epoch 2/20\n",
            "\u001b[1m325/325\u001b[0m \u001b[32m━━━━━━━━━━━━━━━━━━━━\u001b[0m\u001b[37m\u001b[0m \u001b[1m1166s\u001b[0m 3s/step - accuracy: 0.3348 - loss: 1.6116 - val_accuracy: 0.2873 - val_loss: 1.7409\n",
            "Epoch 3/20\n",
            "\u001b[1m325/325\u001b[0m \u001b[32m━━━━━━━━━━━━━━━━━━━━\u001b[0m\u001b[37m\u001b[0m \u001b[1m1116s\u001b[0m 3s/step - accuracy: 0.4064 - loss: 1.4265 - val_accuracy: 0.3271 - val_loss: 1.7178\n",
            "Epoch 4/20\n",
            "\u001b[1m325/325\u001b[0m \u001b[32m━━━━━━━━━━━━━━━━━━━━\u001b[0m\u001b[37m\u001b[0m \u001b[1m1113s\u001b[0m 3s/step - accuracy: 0.4845 - loss: 1.2640 - val_accuracy: 0.3315 - val_loss: 1.8139\n",
            "Epoch 5/20\n",
            "\u001b[1m325/325\u001b[0m \u001b[32m━━━━━━━━━━━━━━━━━━━━\u001b[0m\u001b[37m\u001b[0m \u001b[1m1167s\u001b[0m 3s/step - accuracy: 0.5376 - loss: 1.1349 - val_accuracy: 0.3739 - val_loss: 1.8107\n",
            "Epoch 6/20\n",
            "\u001b[1m325/325\u001b[0m \u001b[32m━━━━━━━━━━━━━━━━━━━━\u001b[0m\u001b[37m\u001b[0m \u001b[1m1115s\u001b[0m 3s/step - accuracy: 0.5867 - loss: 1.0103 - val_accuracy: 0.3583 - val_loss: 1.9302\n",
            "\u001b[1m181/181\u001b[0m \u001b[32m━━━━━━━━━━━━━━━━━━━━\u001b[0m\u001b[37m\u001b[0m \u001b[1m127s\u001b[0m 694ms/step\n",
            "Bi\n",
            "Accuracy on Test Set: 0.34066124285961574\n",
            "F1 Score on Test Set: 0.33\n"
          ]
        },
        {
          "output_type": "execute_result",
          "data": {
            "text/plain": [
              "(<Sequential name=sequential, built=True>,\n",
              " <keras.src.callbacks.history.History at 0x7eab0419fc10>)"
            ]
          },
          "metadata": {},
          "execution_count": 17
        }
      ]
    },
    {
      "cell_type": "code",
      "source": [
        "run2_gru(sampled_data, \"tokenizer_clean\", \"model_clean\", False)"
      ],
      "metadata": {
        "colab": {
          "base_uri": "https://localhost:8080/"
        },
        "id": "TViO61P_arXH",
        "outputId": "e45c97be-ab11-4bbb-f3c1-3aa839f9482e"
      },
      "execution_count": null,
      "outputs": [
        {
          "output_type": "stream",
          "name": "stderr",
          "text": [
            "/usr/local/lib/python3.10/dist-packages/keras/src/layers/core/embedding.py:90: UserWarning: Argument `input_length` is deprecated. Just remove it.\n",
            "  warnings.warn(\n"
          ]
        },
        {
          "output_type": "stream",
          "name": "stdout",
          "text": [
            "Epoch 1/20\n",
            "\u001b[1m325/325\u001b[0m \u001b[32m━━━━━━━━━━━━━━━━━━━━\u001b[0m\u001b[37m\u001b[0m \u001b[1m463s\u001b[0m 1s/step - accuracy: 0.1448 - loss: 2.2022 - val_accuracy: 0.2852 - val_loss: 1.7893\n",
            "Epoch 2/20\n",
            "\u001b[1m325/325\u001b[0m \u001b[32m━━━━━━━━━━━━━━━━━━━━\u001b[0m\u001b[37m\u001b[0m \u001b[1m504s\u001b[0m 1s/step - accuracy: 0.2967 - loss: 1.7251 - val_accuracy: 0.3120 - val_loss: 1.7481\n",
            "Epoch 3/20\n",
            "\u001b[1m325/325\u001b[0m \u001b[32m━━━━━━━━━━━━━━━━━━━━\u001b[0m\u001b[37m\u001b[0m \u001b[1m495s\u001b[0m 1s/step - accuracy: 0.4027 - loss: 1.5040 - val_accuracy: 0.3388 - val_loss: 1.6413\n",
            "Epoch 4/20\n",
            "\u001b[1m325/325\u001b[0m \u001b[32m━━━━━━━━━━━━━━━━━━━━\u001b[0m\u001b[37m\u001b[0m \u001b[1m505s\u001b[0m 1s/step - accuracy: 0.4932 - loss: 1.2993 - val_accuracy: 0.3527 - val_loss: 1.6726\n",
            "Epoch 5/20\n",
            "\u001b[1m325/325\u001b[0m \u001b[32m━━━━━━━━━━━━━━━━━━━━\u001b[0m\u001b[37m\u001b[0m \u001b[1m458s\u001b[0m 1s/step - accuracy: 0.5507 - loss: 1.1547 - val_accuracy: 0.3682 - val_loss: 1.6995\n",
            "Epoch 6/20\n",
            "\u001b[1m325/325\u001b[0m \u001b[32m━━━━━━━━━━━━━━━━━━━━\u001b[0m\u001b[37m\u001b[0m \u001b[1m459s\u001b[0m 1s/step - accuracy: 0.6205 - loss: 1.0136 - val_accuracy: 0.3756 - val_loss: 1.7705\n",
            "\u001b[1m181/181\u001b[0m \u001b[32m━━━━━━━━━━━━━━━━━━━━\u001b[0m\u001b[37m\u001b[0m \u001b[1m26s\u001b[0m 144ms/step\n",
            "GRU\n",
            "Accuracy on Test Set: 0.3410074433096763\n",
            "F1 Score on Test Set: 0.33\n"
          ]
        },
        {
          "output_type": "execute_result",
          "data": {
            "text/plain": [
              "(<Sequential name=sequential_1, built=True>,\n",
              " <keras.src.callbacks.history.History at 0x7eaa6ed974c0>)"
            ]
          },
          "metadata": {},
          "execution_count": 18
        }
      ]
    },
    {
      "cell_type": "code",
      "source": [
        "run2_cnn_rnn(sampled_data, \"tokenizer_clean\", \"model_clean\", False)"
      ],
      "metadata": {
        "colab": {
          "base_uri": "https://localhost:8080/"
        },
        "id": "OzUvv7tSYw7u",
        "outputId": "6d2740bd-a83c-4c42-becd-505aeeada4f2"
      },
      "execution_count": null,
      "outputs": [
        {
          "output_type": "stream",
          "name": "stdout",
          "text": [
            "Epoch 1/20\n"
          ]
        },
        {
          "output_type": "stream",
          "name": "stderr",
          "text": [
            "/usr/local/lib/python3.10/dist-packages/keras/src/layers/core/embedding.py:90: UserWarning: Argument `input_length` is deprecated. Just remove it.\n",
            "  warnings.warn(\n"
          ]
        },
        {
          "output_type": "stream",
          "name": "stdout",
          "text": [
            "\u001b[1m113/113\u001b[0m \u001b[32m━━━━━━━━━━━━━━━━━━━━\u001b[0m\u001b[37m\u001b[0m \u001b[1m72s\u001b[0m 610ms/step - accuracy: 0.1017 - loss: 2.2986 - val_accuracy: 0.1750 - val_loss: 2.1235\n",
            "Epoch 2/20\n",
            "\u001b[1m113/113\u001b[0m \u001b[32m━━━━━━━━━━━━━━━━━━━━\u001b[0m\u001b[37m\u001b[0m \u001b[1m81s\u001b[0m 600ms/step - accuracy: 0.1942 - loss: 2.0056 - val_accuracy: 0.2125 - val_loss: 1.8621\n",
            "Epoch 3/20\n",
            "\u001b[1m113/113\u001b[0m \u001b[32m━━━━━━━━━━━━━━━━━━━━\u001b[0m\u001b[37m\u001b[0m \u001b[1m80s\u001b[0m 582ms/step - accuracy: 0.2958 - loss: 1.6860 - val_accuracy: 0.2800 - val_loss: 1.8270\n",
            "Epoch 4/20\n",
            "\u001b[1m113/113\u001b[0m \u001b[32m━━━━━━━━━━━━━━━━━━━━\u001b[0m\u001b[37m\u001b[0m \u001b[1m68s\u001b[0m 604ms/step - accuracy: 0.3707 - loss: 1.4829 - val_accuracy: 0.2587 - val_loss: 1.8663\n",
            "Epoch 5/20\n",
            "\u001b[1m113/113\u001b[0m \u001b[32m━━━━━━━━━━━━━━━━━━━━\u001b[0m\u001b[37m\u001b[0m \u001b[1m66s\u001b[0m 582ms/step - accuracy: 0.4557 - loss: 1.3092 - val_accuracy: 0.2775 - val_loss: 1.9840\n",
            "Epoch 6/20\n",
            "\u001b[1m113/113\u001b[0m \u001b[32m━━━━━━━━━━━━━━━━━━━━\u001b[0m\u001b[37m\u001b[0m \u001b[1m83s\u001b[0m 590ms/step - accuracy: 0.5299 - loss: 1.1747 - val_accuracy: 0.2763 - val_loss: 2.1484\n",
            "Epoch 7/20\n",
            "\u001b[1m113/113\u001b[0m \u001b[32m━━━━━━━━━━━━━━━━━━━━\u001b[0m\u001b[37m\u001b[0m \u001b[1m83s\u001b[0m 602ms/step - accuracy: 0.5490 - loss: 1.0857 - val_accuracy: 0.2713 - val_loss: 2.4133\n",
            "Epoch 8/20\n",
            "\u001b[1m113/113\u001b[0m \u001b[32m━━━━━━━━━━━━━━━━━━━━\u001b[0m\u001b[37m\u001b[0m \u001b[1m66s\u001b[0m 588ms/step - accuracy: 0.6053 - loss: 0.9571 - val_accuracy: 0.2688 - val_loss: 2.7198\n",
            "\u001b[1m63/63\u001b[0m \u001b[32m━━━━━━━━━━━━━━━━━━━━\u001b[0m\u001b[37m\u001b[0m \u001b[1m5s\u001b[0m 78ms/step\n",
            "Accuracy on Test Set: 0.2425\n",
            "F1 Score on Test Set: 0.22\n"
          ]
        },
        {
          "output_type": "stream",
          "name": "stderr",
          "text": [
            "WARNING:absl:You are saving your model as an HDF5 file via `model.save()` or `keras.saving.save_model(model)`. This file format is considered legacy. We recommend using instead the native Keras format, e.g. `model.save('my_model.keras')` or `keras.saving.save_model(model, 'my_model.keras')`. \n"
          ]
        },
        {
          "output_type": "execute_result",
          "data": {
            "text/plain": [
              "(<Sequential name=sequential_1, built=True>,\n",
              " <keras.src.callbacks.history.History at 0x7b009e82cd60>)"
            ]
          },
          "metadata": {},
          "execution_count": 13
        }
      ]
    },
    {
      "cell_type": "code",
      "source": [
        "run2_svm(sampled_data, \"tokenizer_clean\", \"model_clean\", False)"
      ],
      "metadata": {
        "colab": {
          "base_uri": "https://localhost:8080/"
        },
        "id": "ZUrm3lz3dVYj",
        "outputId": "9e50a9a0-5080-46dd-ccfb-66cb8e6158d6"
      },
      "execution_count": null,
      "outputs": [
        {
          "output_type": "stream",
          "name": "stdout",
          "text": [
            "Accuracy on Test Set: 0.2925\n",
            "F1 Score on Test Set: 0.29\n"
          ]
        },
        {
          "output_type": "execute_result",
          "data": {
            "text/plain": [
              "(SVC(C=1, kernel='linear', probability=True),\n",
              " TfidfVectorizer(max_features=5000, stop_words='english'))"
            ]
          },
          "metadata": {},
          "execution_count": 18
        }
      ]
    },
    {
      "cell_type": "code",
      "source": [
        "pipeline, label_encoder = run_logistic_regression(sampled_data, save = True,  model_name='logistic_model_pl')"
      ],
      "metadata": {
        "colab": {
          "base_uri": "https://localhost:8080/"
        },
        "id": "MP6dPgsi2cfD",
        "outputId": "f3352612-394e-4595-e2ef-fb1f89f70180"
      },
      "execution_count": null,
      "outputs": [
        {
          "output_type": "stream",
          "name": "stdout",
          "text": [
            "run_logistic_regression\n",
            "Accuracy: 0.38462870001731003\n",
            "F1 Score: 0.38\n",
            "\n",
            "Classification Report:\n",
            "               precision    recall  f1-score   support\n",
            "\n",
            "           0       0.73      0.83      0.78       437\n",
            "           1       0.69      0.75      0.72       566\n",
            "           2       0.47      0.45      0.46       562\n",
            "           3       0.43      0.40      0.42       635\n",
            "           4       0.32      0.30      0.31       594\n",
            "           5       0.26      0.26      0.26       612\n",
            "           6       0.17      0.19      0.18       565\n",
            "           7       0.21      0.20      0.21       618\n",
            "           8       0.27      0.25      0.26       612\n",
            "           9       0.34      0.35      0.35       576\n",
            "\n",
            "    accuracy                           0.38      5777\n",
            "   macro avg       0.39      0.40      0.39      5777\n",
            "weighted avg       0.38      0.38      0.38      5777\n",
            "\n"
          ]
        }
      ]
    }
  ]
}